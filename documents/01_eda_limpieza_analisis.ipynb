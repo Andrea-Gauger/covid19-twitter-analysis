{
 "cells": [
  {
   "cell_type": "code",
   "execution_count": 1,
   "metadata": {},
   "outputs": [],
   "source": [
    "# Tratamiento de datos\n",
    "import pandas as pd\n",
    "import numpy as np\n",
    "\n",
    "from sklearn.impute import SimpleImputer\n",
    "\n",
    "# Visualización\n",
    "import matplotlib.pyplot as plt\n",
    "import seaborn as sns\n",
    "\n",
    "# Evaluar linealidad de las relaciones entre las variables\n",
    "from scipy.stats import shapiro, kstest\n",
    "\n",
    "import re\n",
    "\n",
    "# Configuración\n",
    "pd.set_option('display.max_columns', None) # para poder visualizar todas las columnas de los DataFrames"
   ]
  },
  {
   "cell_type": "markdown",
   "metadata": {},
   "source": [
    "## 1. EDA\n",
    "\n",
    "Primer análisis exploratorio:\n",
    "\n",
    "- 60160 filas y 22 columnas\n",
    "- No hay filas duplicadas\n",
    "- Las columnas se pueden renombrar por buenas prácticas usando el guión bajo\n",
    "\n",
    "\n",
    "\n",
    "### Las columnas son las siguientes:\n",
    "\n",
    "0. Tweet Id (object) \n",
    "1. Tweet URL (object) \n",
    "    - Útil para poder acceder al tweet real. \n",
    "2. Tweet Posted Time (UTC) (object) \n",
    "    - Crear una nueva columna con solo la fecha\n",
    "    - Crear una nueva columna con solo la hora\n",
    "3. Tweet Content (object) \n",
    "    - Acceder a lo que está escrito después del # y del @\n",
    "4. Tweet Type (object)  \n",
    "    - ReTweet    45291\n",
    "    - Tweet      13734\n",
    "    - Reply       1135\n",
    "5. Client (object) \n",
    "    - Tiene muchos valores únicos, pero quizá se puede realizar un TOP5\n",
    "6. Retweets Received (int64)  \n",
    "7. Likes Received (int64)  \n",
    "8. Tweet Location (object) \n",
    "    - No se ha rellenado de forma consistente, buscar un modo de limpiar los datos, sin perder demasiados. \n",
    "    - Tiene un numero considerable de nulos.\n",
    "9. Lat (float64)\n",
    "    - Casi todo Nulos\n",
    "    - Eliminar\n",
    "10. Long (float64)\n",
    "    - Casi todo Nulos\n",
    "    - Eliminar\n",
    "11. Tweet Language (object) \n",
    "    - No se ha rellenado de forma consistente, buscar un modo de limpiar los datos, sin perder demasiados. \n",
    "    - Tiene un numero considerable de nulos.\n",
    "12. User Id (object) \n",
    "13. Name (object) \n",
    "    - Tiene un valor Nulo. Correguir UNK\n",
    "14. Screen Name (object) \n",
    "15. User Bio (object) \n",
    "16. Verified or Non-Verified (object) \n",
    "    - Non-Verified    54236\n",
    "    - Verified         5924\n",
    "17. Profile URL (object) \n",
    "18. Protected or Non-protected (object) \n",
    "    - Todas son Non-protected\n",
    "19. User Followers (int64)  \n",
    "20. User Following (int64)  \n",
    "21. User Account Creation Date (object)\n",
    "    - Crear una nueva columna con solo la fecha, sin la hora"
   ]
  },
  {
   "cell_type": "code",
   "execution_count": 2,
   "metadata": {},
   "outputs": [],
   "source": [
    "def apertura_exploracion(csv):\n",
    "\n",
    "    \"\"\" Función para leer csv, convertir a df y hacer una primera exploración.\"\"\"\n",
    "    \n",
    "    try:\n",
    "        # Convertir el csv a DataFrame\n",
    "        df = pd.read_csv(f\"../files/{csv}.csv\")        \n",
    "\n",
    "        # Muestro las primeras filas\n",
    "        display(df.head())\n",
    "\n",
    "        # Obtengo las listas\n",
    "        print(f\"-----\\n\\nEl DataFrame tiene {df.shape[0]} filas y {df.shape[1]} columnas.\\n-----\")\n",
    "\n",
    "        # Consulto si hay filas duplicadas\n",
    "        print(f\"\\nEl número de filas duplicadas es {df.duplicated().sum()}\\n-----\")\n",
    "\n",
    "        # Muestro el tipo de dato y si hay nulos por cada columna\n",
    "        print(\"\\nInformación del DataFrame:\")\n",
    "        df.info()\n",
    "\n",
    "        # Muestro las estadísticas de columnas numéricas\n",
    "        print(\"-----\\n\\nEstadísticas descriptivas:\")\n",
    "        display(df.describe().T)\n",
    "\n",
    "        # Muestro las estadísticas de columnas no numéricas\n",
    "        print(\"-----\\n\\nEstadísticas objetos:\")\n",
    "        display(df.describe(include=\"O\").T)\n",
    "\n",
    "        # Me devuelve un df que tendré que igualar a una variable\n",
    "        return df  \n",
    "\n",
    "    # Excepciones en caso de no enconrar el archivo o de que haya un error\n",
    "    except FileNotFoundError:\n",
    "        print(f\"Error: No se encontró el archivo '../files/{csv}.csv'.\")\n",
    "        return None  \n",
    "    \n",
    "    except Exception as e:\n",
    "        print(f\"Ocurrió un error: {e}\")\n",
    "        return None \n",
    "    "
   ]
  },
  {
   "cell_type": "code",
   "execution_count": 3,
   "metadata": {},
   "outputs": [
    {
     "data": {
      "text/html": [
       "<div>\n",
       "<style scoped>\n",
       "    .dataframe tbody tr th:only-of-type {\n",
       "        vertical-align: middle;\n",
       "    }\n",
       "\n",
       "    .dataframe tbody tr th {\n",
       "        vertical-align: top;\n",
       "    }\n",
       "\n",
       "    .dataframe thead th {\n",
       "        text-align: right;\n",
       "    }\n",
       "</style>\n",
       "<table border=\"1\" class=\"dataframe\">\n",
       "  <thead>\n",
       "    <tr style=\"text-align: right;\">\n",
       "      <th></th>\n",
       "      <th>Tweet Id</th>\n",
       "      <th>Tweet URL</th>\n",
       "      <th>Tweet Posted Time (UTC)</th>\n",
       "      <th>Tweet Content</th>\n",
       "      <th>Tweet Type</th>\n",
       "      <th>Client</th>\n",
       "      <th>Retweets Received</th>\n",
       "      <th>Likes Received</th>\n",
       "      <th>Tweet Location</th>\n",
       "      <th>Lat</th>\n",
       "      <th>Long</th>\n",
       "      <th>Tweet Language</th>\n",
       "      <th>User Id</th>\n",
       "      <th>Name</th>\n",
       "      <th>Screen Name</th>\n",
       "      <th>User Bio</th>\n",
       "      <th>Verified or Non-Verified</th>\n",
       "      <th>Profile URL</th>\n",
       "      <th>Protected or Non-protected</th>\n",
       "      <th>User Followers</th>\n",
       "      <th>User Following</th>\n",
       "      <th>User Account Creation Date</th>\n",
       "    </tr>\n",
       "  </thead>\n",
       "  <tbody>\n",
       "    <tr>\n",
       "      <th>0</th>\n",
       "      <td>\"1233417783175778304\"</td>\n",
       "      <td>https://twitter.com/Giussi92/status/1233417783...</td>\n",
       "      <td>28 Feb 2020 15:44:49</td>\n",
       "      <td>Also the entire Swiss Football League is on ho...</td>\n",
       "      <td>Tweet</td>\n",
       "      <td>Twitter for iPhone</td>\n",
       "      <td>0</td>\n",
       "      <td>0</td>\n",
       "      <td>NaN</td>\n",
       "      <td>NaN</td>\n",
       "      <td>NaN</td>\n",
       "      <td>English</td>\n",
       "      <td>\"1556856595\"</td>\n",
       "      <td>Giuseppe Gentile</td>\n",
       "      <td>Giussi92</td>\n",
       "      <td>NaN</td>\n",
       "      <td>Verified</td>\n",
       "      <td>https://twitter.com/Giussi92</td>\n",
       "      <td>Non-Protected</td>\n",
       "      <td>3071</td>\n",
       "      <td>100</td>\n",
       "      <td>30 Jun 2013 00:27:50</td>\n",
       "    </tr>\n",
       "    <tr>\n",
       "      <th>1</th>\n",
       "      <td>\"1233417742520332290\"</td>\n",
       "      <td>https://twitter.com/LAMofficial/status/1233417...</td>\n",
       "      <td>28 Feb 2020 15:44:40</td>\n",
       "      <td>World Health Org Official: Trump’s press confe...</td>\n",
       "      <td>Tweet</td>\n",
       "      <td>Twitter Web App</td>\n",
       "      <td>0</td>\n",
       "      <td>0</td>\n",
       "      <td>Los Angeles CA USA</td>\n",
       "      <td>NaN</td>\n",
       "      <td>NaN</td>\n",
       "      <td>English</td>\n",
       "      <td>\"113738369\"</td>\n",
       "      <td>London After Midnight</td>\n",
       "      <td>LAMofficial</td>\n",
       "      <td>London After Midnight is a music project by wr...</td>\n",
       "      <td>Verified</td>\n",
       "      <td>https://twitter.com/LAMofficial</td>\n",
       "      <td>Non-Protected</td>\n",
       "      <td>4189</td>\n",
       "      <td>84</td>\n",
       "      <td>12 Feb 2010 21:43:17</td>\n",
       "    </tr>\n",
       "    <tr>\n",
       "      <th>2</th>\n",
       "      <td>\"1233417741027225602\"</td>\n",
       "      <td>https://twitter.com/mitchellvii/status/1233417...</td>\n",
       "      <td>28 Feb 2020 15:44:39</td>\n",
       "      <td>I mean, Liberals are cheer-leading this #Coron...</td>\n",
       "      <td>Tweet</td>\n",
       "      <td>Twitter Web App</td>\n",
       "      <td>23</td>\n",
       "      <td>64</td>\n",
       "      <td>Miami, FL</td>\n",
       "      <td>NaN</td>\n",
       "      <td>NaN</td>\n",
       "      <td>English</td>\n",
       "      <td>\"17980523\"</td>\n",
       "      <td>Bill Mitchell</td>\n",
       "      <td>mitchellvii</td>\n",
       "      <td>Host of YourVoice™ America at http://yourvoice...</td>\n",
       "      <td>Verified</td>\n",
       "      <td>https://twitter.com/mitchellvii</td>\n",
       "      <td>Non-Protected</td>\n",
       "      <td>534045</td>\n",
       "      <td>10037</td>\n",
       "      <td>09 Dec 2008 01:54:21</td>\n",
       "    </tr>\n",
       "    <tr>\n",
       "      <th>3</th>\n",
       "      <td>\"1233417699264356357\"</td>\n",
       "      <td>https://twitter.com/HelenKennedy/status/123341...</td>\n",
       "      <td>28 Feb 2020 15:44:29</td>\n",
       "      <td>Under repeated questioning, Pompeo refuses to ...</td>\n",
       "      <td>Tweet</td>\n",
       "      <td>Twitter for iPhone</td>\n",
       "      <td>4</td>\n",
       "      <td>11</td>\n",
       "      <td>NYC and the North Fork</td>\n",
       "      <td>NaN</td>\n",
       "      <td>NaN</td>\n",
       "      <td>English</td>\n",
       "      <td>\"2199541\"</td>\n",
       "      <td>Helen Kennedy</td>\n",
       "      <td>HelenKennedy</td>\n",
       "      <td>Newspaperman (ex NY Daily News &amp;amp; Boston He...</td>\n",
       "      <td>Verified</td>\n",
       "      <td>https://twitter.com/HelenKennedy</td>\n",
       "      <td>Non-Protected</td>\n",
       "      <td>27704</td>\n",
       "      <td>1060</td>\n",
       "      <td>25 Mar 2007 19:14:46</td>\n",
       "    </tr>\n",
       "    <tr>\n",
       "      <th>4</th>\n",
       "      <td>\"1233417674274807808\"</td>\n",
       "      <td>https://twitter.com/W7VOA/status/1233417674274...</td>\n",
       "      <td>28 Feb 2020 15:44:23</td>\n",
       "      <td>#coronavirus comments now from @larry_kudlow h...</td>\n",
       "      <td>Tweet</td>\n",
       "      <td>Twitter for iPhone</td>\n",
       "      <td>0</td>\n",
       "      <td>0</td>\n",
       "      <td>James S. Brady Press Briefing Room</td>\n",
       "      <td>NaN</td>\n",
       "      <td>NaN</td>\n",
       "      <td>English</td>\n",
       "      <td>\"17919393\"</td>\n",
       "      <td>Steve Herman</td>\n",
       "      <td>W7VOA</td>\n",
       "      <td>@WhiteHouse bureau chief @VOANews. Member: @aa...</td>\n",
       "      <td>Verified</td>\n",
       "      <td>https://twitter.com/W7VOA</td>\n",
       "      <td>Non-Protected</td>\n",
       "      <td>94269</td>\n",
       "      <td>1999</td>\n",
       "      <td>06 Dec 2008 08:56:45</td>\n",
       "    </tr>\n",
       "  </tbody>\n",
       "</table>\n",
       "</div>"
      ],
      "text/plain": [
       "                Tweet Id                                          Tweet URL  \\\n",
       "0  \"1233417783175778304\"  https://twitter.com/Giussi92/status/1233417783...   \n",
       "1  \"1233417742520332290\"  https://twitter.com/LAMofficial/status/1233417...   \n",
       "2  \"1233417741027225602\"  https://twitter.com/mitchellvii/status/1233417...   \n",
       "3  \"1233417699264356357\"  https://twitter.com/HelenKennedy/status/123341...   \n",
       "4  \"1233417674274807808\"  https://twitter.com/W7VOA/status/1233417674274...   \n",
       "\n",
       "  Tweet Posted Time (UTC)                                      Tweet Content  \\\n",
       "0    28 Feb 2020 15:44:49  Also the entire Swiss Football League is on ho...   \n",
       "1    28 Feb 2020 15:44:40  World Health Org Official: Trump’s press confe...   \n",
       "2    28 Feb 2020 15:44:39  I mean, Liberals are cheer-leading this #Coron...   \n",
       "3    28 Feb 2020 15:44:29  Under repeated questioning, Pompeo refuses to ...   \n",
       "4    28 Feb 2020 15:44:23  #coronavirus comments now from @larry_kudlow h...   \n",
       "\n",
       "  Tweet Type              Client  Retweets Received  Likes Received  \\\n",
       "0      Tweet  Twitter for iPhone                  0               0   \n",
       "1      Tweet     Twitter Web App                  0               0   \n",
       "2      Tweet     Twitter Web App                 23              64   \n",
       "3      Tweet  Twitter for iPhone                  4              11   \n",
       "4      Tweet  Twitter for iPhone                  0               0   \n",
       "\n",
       "                       Tweet Location  Lat  Long Tweet Language       User Id  \\\n",
       "0                                 NaN  NaN   NaN        English  \"1556856595\"   \n",
       "1                  Los Angeles CA USA  NaN   NaN        English   \"113738369\"   \n",
       "2                           Miami, FL  NaN   NaN        English    \"17980523\"   \n",
       "3              NYC and the North Fork  NaN   NaN        English     \"2199541\"   \n",
       "4  James S. Brady Press Briefing Room  NaN   NaN        English    \"17919393\"   \n",
       "\n",
       "                    Name   Screen Name  \\\n",
       "0       Giuseppe Gentile      Giussi92   \n",
       "1  London After Midnight   LAMofficial   \n",
       "2          Bill Mitchell   mitchellvii   \n",
       "3          Helen Kennedy  HelenKennedy   \n",
       "4           Steve Herman         W7VOA   \n",
       "\n",
       "                                            User Bio Verified or Non-Verified  \\\n",
       "0                                                NaN                 Verified   \n",
       "1  London After Midnight is a music project by wr...                 Verified   \n",
       "2  Host of YourVoice™ America at http://yourvoice...                 Verified   \n",
       "3  Newspaperman (ex NY Daily News &amp; Boston He...                 Verified   \n",
       "4  @WhiteHouse bureau chief @VOANews. Member: @aa...                 Verified   \n",
       "\n",
       "                        Profile URL Protected or Non-protected  \\\n",
       "0      https://twitter.com/Giussi92              Non-Protected   \n",
       "1   https://twitter.com/LAMofficial              Non-Protected   \n",
       "2   https://twitter.com/mitchellvii              Non-Protected   \n",
       "3  https://twitter.com/HelenKennedy              Non-Protected   \n",
       "4         https://twitter.com/W7VOA              Non-Protected   \n",
       "\n",
       "   User Followers  User Following User Account Creation Date  \n",
       "0            3071             100       30 Jun 2013 00:27:50  \n",
       "1            4189              84       12 Feb 2010 21:43:17  \n",
       "2          534045           10037       09 Dec 2008 01:54:21  \n",
       "3           27704            1060       25 Mar 2007 19:14:46  \n",
       "4           94269            1999       06 Dec 2008 08:56:45  "
      ]
     },
     "metadata": {},
     "output_type": "display_data"
    },
    {
     "name": "stdout",
     "output_type": "stream",
     "text": [
      "-----\n",
      "\n",
      "El DataFrame tiene 60160 filas y 22 columnas.\n",
      "-----\n",
      "\n",
      "El número de filas duplicadas es 0\n",
      "-----\n",
      "\n",
      "Información del DataFrame:\n",
      "<class 'pandas.core.frame.DataFrame'>\n",
      "RangeIndex: 60160 entries, 0 to 60159\n",
      "Data columns (total 22 columns):\n",
      " #   Column                      Non-Null Count  Dtype  \n",
      "---  ------                      --------------  -----  \n",
      " 0   Tweet Id                    60160 non-null  object \n",
      " 1   Tweet URL                   60160 non-null  object \n",
      " 2   Tweet Posted Time (UTC)     60160 non-null  object \n",
      " 3   Tweet Content               60160 non-null  object \n",
      " 4   Tweet Type                  60160 non-null  object \n",
      " 5   Client                      60160 non-null  object \n",
      " 6   Retweets Received           60160 non-null  int64  \n",
      " 7   Likes Received              60160 non-null  int64  \n",
      " 8   Tweet Location              40620 non-null  object \n",
      " 9   Lat                         19 non-null     float64\n",
      " 10  Long                        19 non-null     float64\n",
      " 11  Tweet Language              59012 non-null  object \n",
      " 12  User Id                     60160 non-null  object \n",
      " 13  Name                        60159 non-null  object \n",
      " 14  Screen Name                 60160 non-null  object \n",
      " 15  User Bio                    49718 non-null  object \n",
      " 16  Verified or Non-Verified    60160 non-null  object \n",
      " 17  Profile URL                 60160 non-null  object \n",
      " 18  Protected or Non-protected  60160 non-null  object \n",
      " 19  User Followers              60160 non-null  int64  \n",
      " 20  User Following              60160 non-null  int64  \n",
      " 21  User Account Creation Date  60160 non-null  object \n",
      "dtypes: float64(2), int64(4), object(16)\n",
      "memory usage: 10.1+ MB\n",
      "-----\n",
      "\n",
      "Estadísticas descriptivas:\n"
     ]
    },
    {
     "data": {
      "text/html": [
       "<div>\n",
       "<style scoped>\n",
       "    .dataframe tbody tr th:only-of-type {\n",
       "        vertical-align: middle;\n",
       "    }\n",
       "\n",
       "    .dataframe tbody tr th {\n",
       "        vertical-align: top;\n",
       "    }\n",
       "\n",
       "    .dataframe thead th {\n",
       "        text-align: right;\n",
       "    }\n",
       "</style>\n",
       "<table border=\"1\" class=\"dataframe\">\n",
       "  <thead>\n",
       "    <tr style=\"text-align: right;\">\n",
       "      <th></th>\n",
       "      <th>count</th>\n",
       "      <th>mean</th>\n",
       "      <th>std</th>\n",
       "      <th>min</th>\n",
       "      <th>25%</th>\n",
       "      <th>50%</th>\n",
       "      <th>75%</th>\n",
       "      <th>max</th>\n",
       "    </tr>\n",
       "  </thead>\n",
       "  <tbody>\n",
       "    <tr>\n",
       "      <th>Retweets Received</th>\n",
       "      <td>60160.0</td>\n",
       "      <td>3.142886</td>\n",
       "      <td>106.443453</td>\n",
       "      <td>0.000000</td>\n",
       "      <td>0.000000</td>\n",
       "      <td>0.000000</td>\n",
       "      <td>0.00000</td>\n",
       "      <td>2.383200e+04</td>\n",
       "    </tr>\n",
       "    <tr>\n",
       "      <th>Likes Received</th>\n",
       "      <td>60160.0</td>\n",
       "      <td>5.272590</td>\n",
       "      <td>98.297300</td>\n",
       "      <td>0.000000</td>\n",
       "      <td>0.000000</td>\n",
       "      <td>0.000000</td>\n",
       "      <td>0.00000</td>\n",
       "      <td>1.752600e+04</td>\n",
       "    </tr>\n",
       "    <tr>\n",
       "      <th>Lat</th>\n",
       "      <td>19.0</td>\n",
       "      <td>-45.983002</td>\n",
       "      <td>91.125375</td>\n",
       "      <td>-122.395853</td>\n",
       "      <td>-111.911088</td>\n",
       "      <td>-82.616026</td>\n",
       "      <td>-31.06970</td>\n",
       "      <td>1.397000e+02</td>\n",
       "    </tr>\n",
       "    <tr>\n",
       "      <th>Long</th>\n",
       "      <td>19.0</td>\n",
       "      <td>32.120267</td>\n",
       "      <td>13.136373</td>\n",
       "      <td>-11.000000</td>\n",
       "      <td>33.947780</td>\n",
       "      <td>35.691324</td>\n",
       "      <td>39.68805</td>\n",
       "      <td>4.085376e+01</td>\n",
       "    </tr>\n",
       "    <tr>\n",
       "      <th>User Followers</th>\n",
       "      <td>60160.0</td>\n",
       "      <td>92749.349900</td>\n",
       "      <td>830970.664927</td>\n",
       "      <td>0.000000</td>\n",
       "      <td>145.000000</td>\n",
       "      <td>550.000000</td>\n",
       "      <td>2449.50000</td>\n",
       "      <td>2.127516e+07</td>\n",
       "    </tr>\n",
       "    <tr>\n",
       "      <th>User Following</th>\n",
       "      <td>60160.0</td>\n",
       "      <td>2193.177809</td>\n",
       "      <td>11963.820775</td>\n",
       "      <td>0.000000</td>\n",
       "      <td>204.000000</td>\n",
       "      <td>562.000000</td>\n",
       "      <td>1692.00000</td>\n",
       "      <td>1.182667e+06</td>\n",
       "    </tr>\n",
       "  </tbody>\n",
       "</table>\n",
       "</div>"
      ],
      "text/plain": [
       "                     count          mean            std         min  \\\n",
       "Retweets Received  60160.0      3.142886     106.443453    0.000000   \n",
       "Likes Received     60160.0      5.272590      98.297300    0.000000   \n",
       "Lat                   19.0    -45.983002      91.125375 -122.395853   \n",
       "Long                  19.0     32.120267      13.136373  -11.000000   \n",
       "User Followers     60160.0  92749.349900  830970.664927    0.000000   \n",
       "User Following     60160.0   2193.177809   11963.820775    0.000000   \n",
       "\n",
       "                          25%         50%         75%           max  \n",
       "Retweets Received    0.000000    0.000000     0.00000  2.383200e+04  \n",
       "Likes Received       0.000000    0.000000     0.00000  1.752600e+04  \n",
       "Lat               -111.911088  -82.616026   -31.06970  1.397000e+02  \n",
       "Long                33.947780   35.691324    39.68805  4.085376e+01  \n",
       "User Followers     145.000000  550.000000  2449.50000  2.127516e+07  \n",
       "User Following     204.000000  562.000000  1692.00000  1.182667e+06  "
      ]
     },
     "metadata": {},
     "output_type": "display_data"
    },
    {
     "name": "stdout",
     "output_type": "stream",
     "text": [
      "-----\n",
      "\n",
      "Estadísticas objetos:\n"
     ]
    },
    {
     "data": {
      "text/html": [
       "<div>\n",
       "<style scoped>\n",
       "    .dataframe tbody tr th:only-of-type {\n",
       "        vertical-align: middle;\n",
       "    }\n",
       "\n",
       "    .dataframe tbody tr th {\n",
       "        vertical-align: top;\n",
       "    }\n",
       "\n",
       "    .dataframe thead th {\n",
       "        text-align: right;\n",
       "    }\n",
       "</style>\n",
       "<table border=\"1\" class=\"dataframe\">\n",
       "  <thead>\n",
       "    <tr style=\"text-align: right;\">\n",
       "      <th></th>\n",
       "      <th>count</th>\n",
       "      <th>unique</th>\n",
       "      <th>top</th>\n",
       "      <th>freq</th>\n",
       "    </tr>\n",
       "  </thead>\n",
       "  <tbody>\n",
       "    <tr>\n",
       "      <th>Tweet Id</th>\n",
       "      <td>60160</td>\n",
       "      <td>60160</td>\n",
       "      <td>\"1233417783175778304\"</td>\n",
       "      <td>1</td>\n",
       "    </tr>\n",
       "    <tr>\n",
       "      <th>Tweet URL</th>\n",
       "      <td>60160</td>\n",
       "      <td>60160</td>\n",
       "      <td>https://twitter.com/Giussi92/status/1233417783...</td>\n",
       "      <td>1</td>\n",
       "    </tr>\n",
       "    <tr>\n",
       "      <th>Tweet Posted Time (UTC)</th>\n",
       "      <td>60160</td>\n",
       "      <td>19450</td>\n",
       "      <td>31 Jan 2020 22:30:00</td>\n",
       "      <td>29</td>\n",
       "    </tr>\n",
       "    <tr>\n",
       "      <th>Tweet Content</th>\n",
       "      <td>60160</td>\n",
       "      <td>24943</td>\n",
       "      <td>RT @SaludPublicaEs: El Centro Nacional de Micr...</td>\n",
       "      <td>1943</td>\n",
       "    </tr>\n",
       "    <tr>\n",
       "      <th>Tweet Type</th>\n",
       "      <td>60160</td>\n",
       "      <td>3</td>\n",
       "      <td>ReTweet</td>\n",
       "      <td>45291</td>\n",
       "    </tr>\n",
       "    <tr>\n",
       "      <th>Client</th>\n",
       "      <td>60160</td>\n",
       "      <td>315</td>\n",
       "      <td>Twitter for Android</td>\n",
       "      <td>23250</td>\n",
       "    </tr>\n",
       "    <tr>\n",
       "      <th>Tweet Location</th>\n",
       "      <td>40620</td>\n",
       "      <td>14538</td>\n",
       "      <td>United States</td>\n",
       "      <td>702</td>\n",
       "    </tr>\n",
       "    <tr>\n",
       "      <th>Tweet Language</th>\n",
       "      <td>59012</td>\n",
       "      <td>43</td>\n",
       "      <td>English</td>\n",
       "      <td>33174</td>\n",
       "    </tr>\n",
       "    <tr>\n",
       "      <th>User Id</th>\n",
       "      <td>60160</td>\n",
       "      <td>43297</td>\n",
       "      <td>\"306127388\"</td>\n",
       "      <td>249</td>\n",
       "    </tr>\n",
       "    <tr>\n",
       "      <th>Name</th>\n",
       "      <td>60159</td>\n",
       "      <td>41540</td>\n",
       "      <td>All Express News</td>\n",
       "      <td>249</td>\n",
       "    </tr>\n",
       "    <tr>\n",
       "      <th>Screen Name</th>\n",
       "      <td>60160</td>\n",
       "      <td>43297</td>\n",
       "      <td>bitcoinconnect</td>\n",
       "      <td>249</td>\n",
       "    </tr>\n",
       "    <tr>\n",
       "      <th>User Bio</th>\n",
       "      <td>49718</td>\n",
       "      <td>35225</td>\n",
       "      <td>China's national English language newspaper, u...</td>\n",
       "      <td>127</td>\n",
       "    </tr>\n",
       "    <tr>\n",
       "      <th>Verified or Non-Verified</th>\n",
       "      <td>60160</td>\n",
       "      <td>2</td>\n",
       "      <td>Non-Verified</td>\n",
       "      <td>54236</td>\n",
       "    </tr>\n",
       "    <tr>\n",
       "      <th>Profile URL</th>\n",
       "      <td>60160</td>\n",
       "      <td>43297</td>\n",
       "      <td>https://twitter.com/bitcoinconnect</td>\n",
       "      <td>249</td>\n",
       "    </tr>\n",
       "    <tr>\n",
       "      <th>Protected or Non-protected</th>\n",
       "      <td>60160</td>\n",
       "      <td>1</td>\n",
       "      <td>Non-Protected</td>\n",
       "      <td>60160</td>\n",
       "    </tr>\n",
       "    <tr>\n",
       "      <th>User Account Creation Date</th>\n",
       "      <td>60160</td>\n",
       "      <td>43295</td>\n",
       "      <td>27 May 2011 10:13:30</td>\n",
       "      <td>249</td>\n",
       "    </tr>\n",
       "  </tbody>\n",
       "</table>\n",
       "</div>"
      ],
      "text/plain": [
       "                            count unique  \\\n",
       "Tweet Id                    60160  60160   \n",
       "Tweet URL                   60160  60160   \n",
       "Tweet Posted Time (UTC)     60160  19450   \n",
       "Tweet Content               60160  24943   \n",
       "Tweet Type                  60160      3   \n",
       "Client                      60160    315   \n",
       "Tweet Location              40620  14538   \n",
       "Tweet Language              59012     43   \n",
       "User Id                     60160  43297   \n",
       "Name                        60159  41540   \n",
       "Screen Name                 60160  43297   \n",
       "User Bio                    49718  35225   \n",
       "Verified or Non-Verified    60160      2   \n",
       "Profile URL                 60160  43297   \n",
       "Protected or Non-protected  60160      1   \n",
       "User Account Creation Date  60160  43295   \n",
       "\n",
       "                                                                          top  \\\n",
       "Tweet Id                                                \"1233417783175778304\"   \n",
       "Tweet URL                   https://twitter.com/Giussi92/status/1233417783...   \n",
       "Tweet Posted Time (UTC)                                  31 Jan 2020 22:30:00   \n",
       "Tweet Content               RT @SaludPublicaEs: El Centro Nacional de Micr...   \n",
       "Tweet Type                                                            ReTweet   \n",
       "Client                                                    Twitter for Android   \n",
       "Tweet Location                                                  United States   \n",
       "Tweet Language                                                        English   \n",
       "User Id                                                           \"306127388\"   \n",
       "Name                                                         All Express News   \n",
       "Screen Name                                                    bitcoinconnect   \n",
       "User Bio                    China's national English language newspaper, u...   \n",
       "Verified or Non-Verified                                         Non-Verified   \n",
       "Profile URL                                https://twitter.com/bitcoinconnect   \n",
       "Protected or Non-protected                                      Non-Protected   \n",
       "User Account Creation Date                               27 May 2011 10:13:30   \n",
       "\n",
       "                             freq  \n",
       "Tweet Id                        1  \n",
       "Tweet URL                       1  \n",
       "Tweet Posted Time (UTC)        29  \n",
       "Tweet Content                1943  \n",
       "Tweet Type                  45291  \n",
       "Client                      23250  \n",
       "Tweet Location                702  \n",
       "Tweet Language              33174  \n",
       "User Id                       249  \n",
       "Name                          249  \n",
       "Screen Name                   249  \n",
       "User Bio                      127  \n",
       "Verified or Non-Verified    54236  \n",
       "Profile URL                   249  \n",
       "Protected or Non-protected  60160  \n",
       "User Account Creation Date    249  "
      ]
     },
     "metadata": {},
     "output_type": "display_data"
    }
   ],
   "source": [
    "df_covid = apertura_exploracion(\"COVID\")"
   ]
  },
  {
   "cell_type": "code",
   "execution_count": 4,
   "metadata": {},
   "outputs": [
    {
     "data": {
      "text/plain": [
       "Index(['Tweet Id', 'Tweet URL', 'Tweet Posted Time (UTC)', 'Tweet Content',\n",
       "       'Tweet Type', 'Client', 'Retweets Received', 'Likes Received',\n",
       "       'Tweet Location', 'Lat', 'Long', 'Tweet Language', 'User Id', 'Name',\n",
       "       'Screen Name', 'User Bio', 'Verified or Non-Verified', 'Profile URL',\n",
       "       'Protected or Non-protected', 'User Followers', 'User Following',\n",
       "       'User Account Creation Date'],\n",
       "      dtype='object')"
      ]
     },
     "execution_count": 4,
     "metadata": {},
     "output_type": "execute_result"
    }
   ],
   "source": [
    "df_covid.columns"
   ]
  },
  {
   "cell_type": "code",
   "execution_count": 5,
   "metadata": {},
   "outputs": [
    {
     "data": {
      "text/plain": [
       "Tweet Type\n",
       "ReTweet    45291\n",
       "Tweet      13734\n",
       "Reply       1135\n",
       "Name: count, dtype: int64"
      ]
     },
     "execution_count": 5,
     "metadata": {},
     "output_type": "execute_result"
    }
   ],
   "source": [
    "df_covid['Tweet Type'].value_counts()"
   ]
  },
  {
   "cell_type": "code",
   "execution_count": 6,
   "metadata": {},
   "outputs": [
    {
     "data": {
      "text/plain": [
       "Client\n",
       "Twitter for Android         23250\n",
       "Twitter for iPhone          16951\n",
       "Twitter Web App             12251\n",
       "Twitter for iPad             1829\n",
       "TweetDeck                    1673\n",
       "                            ...  \n",
       "jayhasgin                       1\n",
       "Talon (Plus)                    1\n",
       "Microsoft Power Platform        1\n",
       "Amplifr                         1\n",
       "UberSocial for Android          1\n",
       "Name: count, Length: 315, dtype: int64"
      ]
     },
     "execution_count": 6,
     "metadata": {},
     "output_type": "execute_result"
    }
   ],
   "source": [
    "df_covid['Client'].value_counts()"
   ]
  },
  {
   "cell_type": "code",
   "execution_count": 7,
   "metadata": {},
   "outputs": [
    {
     "data": {
      "text/plain": [
       "Tweet Location\n",
       "United States               702\n",
       "Beijing, China              385\n",
       "Venezuela                   303\n",
       "USA                         303\n",
       "España                      295\n",
       "                           ... \n",
       "Gerringong NSW Australia      1\n",
       "in my zone                    1\n",
       "Mérida, España                1\n",
       "ÜT: 10.169725,-64.650823      1\n",
       "Jackson Hole, WY              1\n",
       "Name: count, Length: 14538, dtype: int64"
      ]
     },
     "execution_count": 7,
     "metadata": {},
     "output_type": "execute_result"
    }
   ],
   "source": [
    "df_covid['Tweet Location'].value_counts()"
   ]
  },
  {
   "cell_type": "code",
   "execution_count": 8,
   "metadata": {},
   "outputs": [
    {
     "data": {
      "text/plain": [
       "Tweet Language\n",
       "English       33174\n",
       "Spanish       15814\n",
       "Italian        2958\n",
       "French         2932\n",
       "Portuguese      912\n",
       "Turkish         884\n",
       "German          434\n",
       "in              388\n",
       "Chinese         283\n",
       "Thai            271\n",
       "Japanese        204\n",
       "Tagalog         131\n",
       "Catalan         104\n",
       "Dutch            93\n",
       "Arabic           79\n",
       "Polish           69\n",
       "Urdu             53\n",
       "Russian          29\n",
       "Greek            24\n",
       "Danish           19\n",
       "Farsi            18\n",
       "Korean           18\n",
       "Swedish          17\n",
       "Hindi            15\n",
       "Finnish          14\n",
       "Tamil            13\n",
       "Estonian         12\n",
       "Czech             9\n",
       "ht                9\n",
       "Romanian          8\n",
       "si                3\n",
       "Slovenian         3\n",
       "ml                3\n",
       "Vietnamese        3\n",
       "Latvian           2\n",
       "Lithuanian        2\n",
       "Welsh             2\n",
       "Divehi            1\n",
       "Pashto            1\n",
       "Basque            1\n",
       "iw                1\n",
       "km                1\n",
       "or                1\n",
       "Name: count, dtype: int64"
      ]
     },
     "execution_count": 8,
     "metadata": {},
     "output_type": "execute_result"
    }
   ],
   "source": [
    "df_covid['Tweet Language'].value_counts()"
   ]
  },
  {
   "cell_type": "code",
   "execution_count": 9,
   "metadata": {},
   "outputs": [
    {
     "data": {
      "text/plain": [
       "Verified or Non-Verified\n",
       "Non-Verified    54236\n",
       "Verified         5924\n",
       "Name: count, dtype: int64"
      ]
     },
     "execution_count": 9,
     "metadata": {},
     "output_type": "execute_result"
    }
   ],
   "source": [
    "df_covid['Verified or Non-Verified'].value_counts()"
   ]
  },
  {
   "cell_type": "code",
   "execution_count": 10,
   "metadata": {},
   "outputs": [
    {
     "data": {
      "text/plain": [
       "Protected or Non-protected\n",
       "Non-Protected    60160\n",
       "Name: count, dtype: int64"
      ]
     },
     "execution_count": 10,
     "metadata": {},
     "output_type": "execute_result"
    }
   ],
   "source": [
    "df_covid['Protected or Non-protected'].value_counts()"
   ]
  },
  {
   "cell_type": "code",
   "execution_count": 11,
   "metadata": {},
   "outputs": [
    {
     "data": {
      "text/plain": [
       "12653    31 May 2013 20:44:02\n",
       "21799    16 Aug 2007 15:08:04\n",
       "9514     20 Oct 2011 08:47:30\n",
       "41721    17 Nov 2010 19:50:38\n",
       "475      10 Mar 2010 00:44:07\n",
       "Name: User Account Creation Date, dtype: object"
      ]
     },
     "execution_count": 11,
     "metadata": {},
     "output_type": "execute_result"
    }
   ],
   "source": [
    "df_covid['User Account Creation Date'].sample(5)"
   ]
  },
  {
   "cell_type": "markdown",
   "metadata": {},
   "source": [
    "## 2. Nulos\n",
    "\n",
    "- Eliminio las columnas 'Lat' y 'Long', casi un 100& de Nulos, y puedo conseguir una información de ubicacion de la variable 'Tweet Location'\n",
    "- 1 Nulo en Name que convierto a 'Unk'\n",
    "- 'User Bio' tiene un 17% de Nulos, pero al ser información que no considero relevante, lo convierto a 'Unk'\n",
    "\n",
    "** Quedan pendientes las variables 'Tweet Location' y 'Tweet Language', con un porcentaje de nulos del 32% y el 2% respectivamente **"
   ]
  },
  {
   "cell_type": "code",
   "execution_count": 12,
   "metadata": {},
   "outputs": [
    {
     "data": {
      "text/plain": [
       "Tweet Id                          0\n",
       "Tweet URL                         0\n",
       "Tweet Posted Time (UTC)           0\n",
       "Tweet Content                     0\n",
       "Tweet Type                        0\n",
       "Client                            0\n",
       "Retweets Received                 0\n",
       "Likes Received                    0\n",
       "Tweet Location                19540\n",
       "Lat                           60141\n",
       "Long                          60141\n",
       "Tweet Language                 1148\n",
       "User Id                           0\n",
       "Name                              1\n",
       "Screen Name                       0\n",
       "User Bio                      10442\n",
       "Verified or Non-Verified          0\n",
       "Profile URL                       0\n",
       "Protected or Non-protected        0\n",
       "User Followers                    0\n",
       "User Following                    0\n",
       "User Account Creation Date        0\n",
       "dtype: int64"
      ]
     },
     "execution_count": 12,
     "metadata": {},
     "output_type": "execute_result"
    }
   ],
   "source": [
    "df_covid.isna().sum()"
   ]
  },
  {
   "cell_type": "code",
   "execution_count": 13,
   "metadata": {},
   "outputs": [
    {
     "data": {
      "text/plain": [
       "Tweet Id                       0.00\n",
       "Tweet URL                      0.00\n",
       "Tweet Posted Time (UTC)        0.00\n",
       "Tweet Content                  0.00\n",
       "Tweet Type                     0.00\n",
       "Client                         0.00\n",
       "Retweets Received              0.00\n",
       "Likes Received                 0.00\n",
       "Tweet Location                32.48\n",
       "Lat                           99.97\n",
       "Long                          99.97\n",
       "Tweet Language                 1.91\n",
       "User Id                        0.00\n",
       "Name                           0.00\n",
       "Screen Name                    0.00\n",
       "User Bio                      17.36\n",
       "Verified or Non-Verified       0.00\n",
       "Profile URL                    0.00\n",
       "Protected or Non-protected     0.00\n",
       "User Followers                 0.00\n",
       "User Following                 0.00\n",
       "User Account Creation Date     0.00\n",
       "dtype: float64"
      ]
     },
     "execution_count": 13,
     "metadata": {},
     "output_type": "execute_result"
    }
   ],
   "source": [
    "round(df_covid.isna().sum()/60160*100,2)"
   ]
  },
  {
   "cell_type": "code",
   "execution_count": 14,
   "metadata": {},
   "outputs": [],
   "source": [
    "# Sustituyo el único NaN de la variable 'Name' por Unk\n",
    "df_covid[\"Name\"] = df_covid[\"Name\"].fillna(\"Unk\")"
   ]
  },
  {
   "cell_type": "code",
   "execution_count": 15,
   "metadata": {},
   "outputs": [],
   "source": [
    "# Elimino 'Lat' y 'Long' porque tengo otra variable de la que poder extraer la ubicación, y estas dos tienen demasiados Nulos.\n",
    "df_covid.drop(columns=['Lat','Long'], inplace=True)"
   ]
  },
  {
   "cell_type": "code",
   "execution_count": 16,
   "metadata": {},
   "outputs": [],
   "source": [
    "# Tiene un 17% de Nulos, pero es información que no considero relevante para el análisis. \n",
    "# En lugar de eliminar la información, decido sustituir los Nulos por 'Unk'\n",
    "df_covid['User Bio'] = df_covid['User Bio'].fillna('Unk')"
   ]
  },
  {
   "cell_type": "code",
   "execution_count": 17,
   "metadata": {},
   "outputs": [
    {
     "data": {
      "text/plain": [
       "Tweet Id                       0.00\n",
       "Tweet URL                      0.00\n",
       "Tweet Posted Time (UTC)        0.00\n",
       "Tweet Content                  0.00\n",
       "Tweet Type                     0.00\n",
       "Client                         0.00\n",
       "Retweets Received              0.00\n",
       "Likes Received                 0.00\n",
       "Tweet Location                32.48\n",
       "Tweet Language                 1.91\n",
       "User Id                        0.00\n",
       "Name                           0.00\n",
       "Screen Name                    0.00\n",
       "User Bio                       0.00\n",
       "Verified or Non-Verified       0.00\n",
       "Profile URL                    0.00\n",
       "Protected or Non-protected     0.00\n",
       "User Followers                 0.00\n",
       "User Following                 0.00\n",
       "User Account Creation Date     0.00\n",
       "dtype: float64"
      ]
     },
     "execution_count": 17,
     "metadata": {},
     "output_type": "execute_result"
    }
   ],
   "source": [
    "round(df_covid.isna().sum()/60160*100,2)"
   ]
  },
  {
   "cell_type": "markdown",
   "metadata": {},
   "source": [
    "## 3. Limpieza\n",
    "\n",
    "- 'Tweet Content', creo dos nuevas columnas con la siguiente información:\n",
    "    - Funcion para extraer la palabra inmediatemente posterior a # (Hasthag)\n",
    "    - Funcion para extraer la palabra inmediatemente posterior a @ (Menciones)\n",
    "\n",
    "- 'User Account Creation Date', creo una nueva columna 'account_creation_year' en la que se guardará solo el año de creación, el resto de informaicón no es relevante.\n",
    "\n",
    "- Tweet Posted Time (UTC), creo dos nuevas columnas:\n",
    "    - Una con solo la fecha\n",
    "    - Otra con solo la hora\n",
    "\n",
    "- \n"
   ]
  },
  {
   "cell_type": "code",
   "execution_count": 18,
   "metadata": {},
   "outputs": [],
   "source": [
    "# Función para extraer el primer hashtag\n",
    "def extraer_hashtag(texto):\n",
    "    match = re.search(r'#(\\w+)', str(texto))\n",
    "    return match.group(1) if match else 'Unk'"
   ]
  },
  {
   "cell_type": "code",
   "execution_count": 19,
   "metadata": {},
   "outputs": [],
   "source": [
    "# Función para extraer la primera mención\n",
    "def extraer_mencion(texto):\n",
    "    match = re.search(r'@(\\w+)', str(texto))\n",
    "    return match.group(1) if match else 'Unk'"
   ]
  },
  {
   "cell_type": "code",
   "execution_count": 20,
   "metadata": {},
   "outputs": [],
   "source": [
    "# Aplico funciones a la columna 'Tweet Content'\n",
    "df_covid['hashtag'] = df_covid['Tweet Content'].apply(extraer_hashtag)\n",
    "df_covid['mention'] = df_covid['Tweet Content'].apply(extraer_mencion)"
   ]
  },
  {
   "cell_type": "code",
   "execution_count": 21,
   "metadata": {},
   "outputs": [
    {
     "data": {
      "text/html": [
       "<div>\n",
       "<style scoped>\n",
       "    .dataframe tbody tr th:only-of-type {\n",
       "        vertical-align: middle;\n",
       "    }\n",
       "\n",
       "    .dataframe tbody tr th {\n",
       "        vertical-align: top;\n",
       "    }\n",
       "\n",
       "    .dataframe thead th {\n",
       "        text-align: right;\n",
       "    }\n",
       "</style>\n",
       "<table border=\"1\" class=\"dataframe\">\n",
       "  <thead>\n",
       "    <tr style=\"text-align: right;\">\n",
       "      <th></th>\n",
       "      <th>Tweet Content</th>\n",
       "      <th>hashtag</th>\n",
       "      <th>mention</th>\n",
       "    </tr>\n",
       "  </thead>\n",
       "  <tbody>\n",
       "    <tr>\n",
       "      <th>0</th>\n",
       "      <td>Also the entire Swiss Football League is on ho...</td>\n",
       "      <td>coronavirus</td>\n",
       "      <td>Unk</td>\n",
       "    </tr>\n",
       "    <tr>\n",
       "      <th>1</th>\n",
       "      <td>World Health Org Official: Trump’s press confe...</td>\n",
       "      <td>coronavirus</td>\n",
       "      <td>Unk</td>\n",
       "    </tr>\n",
       "    <tr>\n",
       "      <th>2</th>\n",
       "      <td>I mean, Liberals are cheer-leading this #Coron...</td>\n",
       "      <td>Coronavirus</td>\n",
       "      <td>Unk</td>\n",
       "    </tr>\n",
       "    <tr>\n",
       "      <th>3</th>\n",
       "      <td>Under repeated questioning, Pompeo refuses to ...</td>\n",
       "      <td>COVID19</td>\n",
       "      <td>Unk</td>\n",
       "    </tr>\n",
       "    <tr>\n",
       "      <th>4</th>\n",
       "      <td>#coronavirus comments now from @larry_kudlow h...</td>\n",
       "      <td>coronavirus</td>\n",
       "      <td>larry_kudlow</td>\n",
       "    </tr>\n",
       "  </tbody>\n",
       "</table>\n",
       "</div>"
      ],
      "text/plain": [
       "                                       Tweet Content      hashtag  \\\n",
       "0  Also the entire Swiss Football League is on ho...  coronavirus   \n",
       "1  World Health Org Official: Trump’s press confe...  coronavirus   \n",
       "2  I mean, Liberals are cheer-leading this #Coron...  Coronavirus   \n",
       "3  Under repeated questioning, Pompeo refuses to ...      COVID19   \n",
       "4  #coronavirus comments now from @larry_kudlow h...  coronavirus   \n",
       "\n",
       "        mention  \n",
       "0           Unk  \n",
       "1           Unk  \n",
       "2           Unk  \n",
       "3           Unk  \n",
       "4  larry_kudlow  "
      ]
     },
     "execution_count": 21,
     "metadata": {},
     "output_type": "execute_result"
    }
   ],
   "source": [
    "df_covid[['Tweet Content', 'hashtag', 'mention']].head()"
   ]
  },
  {
   "cell_type": "code",
   "execution_count": 22,
   "metadata": {},
   "outputs": [
    {
     "data": {
      "text/plain": [
       "26197    11 Nov 2019 23:59:28\n",
       "50105    16 Feb 2016 15:38:23\n",
       "42529    30 Jan 2015 22:13:50\n",
       "24979    30 Sep 2015 09:06:31\n",
       "23020    26 Jul 2014 12:57:48\n",
       "Name: User Account Creation Date, dtype: object"
      ]
     },
     "execution_count": 22,
     "metadata": {},
     "output_type": "execute_result"
    }
   ],
   "source": [
    "# De esta columna decido quedarme solo con el año de creación de la cuenta, el resto me parece irrelevante.\n",
    "df_covid['User Account Creation Date'].sample(5)"
   ]
  },
  {
   "cell_type": "code",
   "execution_count": 23,
   "metadata": {},
   "outputs": [],
   "source": [
    "# Creo una nueva columna 'account_creation_year' en la que se guardará solo el año de creación \n",
    "df_covid['account_creation_year'] = df_covid['User Account Creation Date'].str.split(\" \").str[2]"
   ]
  },
  {
   "cell_type": "code",
   "execution_count": 24,
   "metadata": {},
   "outputs": [
    {
     "data": {
      "text/plain": [
       "0"
      ]
     },
     "execution_count": 24,
     "metadata": {},
     "output_type": "execute_result"
    }
   ],
   "source": [
    "# Compruebo nulos\n",
    "df_covid['account_creation_year'].isna().sum()"
   ]
  },
  {
   "cell_type": "code",
   "execution_count": 25,
   "metadata": {},
   "outputs": [
    {
     "data": {
      "text/plain": [
       "account_creation_year\n",
       "2006      10\n",
       "2007     407\n",
       "2008    1237\n",
       "2009    7062\n",
       "2010    5439\n",
       "2011    6737\n",
       "2012    5509\n",
       "2013    4589\n",
       "2014    3868\n",
       "2015    3718\n",
       "2016    3992\n",
       "2017    4342\n",
       "2018    4674\n",
       "2019    7004\n",
       "2020    1572\n",
       "Name: count, dtype: int64"
      ]
     },
     "execution_count": 25,
     "metadata": {},
     "output_type": "execute_result"
    }
   ],
   "source": [
    "# Compruebo los datos que se han generado en esta nueva columna\n",
    "df_covid['account_creation_year'].value_counts().sort_index()"
   ]
  },
  {
   "cell_type": "code",
   "execution_count": 26,
   "metadata": {},
   "outputs": [
    {
     "data": {
      "text/plain": [
       "2110     21 Feb 2020 16:20:05\n",
       "1973     21 Feb 2020 17:43:00\n",
       "30551    31 Jan 2020 23:12:56\n",
       "3615     21 Feb 2020 03:23:00\n",
       "52490    31 Jan 2020 22:06:42\n",
       "Name: Tweet Posted Time (UTC), dtype: object"
      ]
     },
     "execution_count": 26,
     "metadata": {},
     "output_type": "execute_result"
    }
   ],
   "source": [
    "df_covid['Tweet Posted Time (UTC)'].sample(5)"
   ]
  },
  {
   "cell_type": "code",
   "execution_count": 27,
   "metadata": {},
   "outputs": [],
   "source": [
    "# Convertir 'Tweet Posted Time (UTC)' a formato fecha\n",
    "df_covid['Tweet Posted Time (UTC)'] = pd.to_datetime(df_covid['Tweet Posted Time (UTC)'], format='%d %b %Y %H:%M:%S')"
   ]
  },
  {
   "cell_type": "code",
   "execution_count": 28,
   "metadata": {},
   "outputs": [],
   "source": [
    "df_covid['tweet_posted_hour'] = df_covid['Tweet Posted Time (UTC)'].dt.time"
   ]
  },
  {
   "cell_type": "code",
   "execution_count": 29,
   "metadata": {},
   "outputs": [],
   "source": [
    "df_covid['tweet_posted_date'] = df_covid['Tweet Posted Time (UTC)'].dt.date"
   ]
  },
  {
   "cell_type": "code",
   "execution_count": 30,
   "metadata": {},
   "outputs": [
    {
     "data": {
      "text/html": [
       "<div>\n",
       "<style scoped>\n",
       "    .dataframe tbody tr th:only-of-type {\n",
       "        vertical-align: middle;\n",
       "    }\n",
       "\n",
       "    .dataframe tbody tr th {\n",
       "        vertical-align: top;\n",
       "    }\n",
       "\n",
       "    .dataframe thead th {\n",
       "        text-align: right;\n",
       "    }\n",
       "</style>\n",
       "<table border=\"1\" class=\"dataframe\">\n",
       "  <thead>\n",
       "    <tr style=\"text-align: right;\">\n",
       "      <th></th>\n",
       "      <th>Tweet Id</th>\n",
       "      <th>Tweet URL</th>\n",
       "      <th>Tweet Posted Time (UTC)</th>\n",
       "      <th>Tweet Content</th>\n",
       "      <th>Tweet Type</th>\n",
       "      <th>Client</th>\n",
       "      <th>Retweets Received</th>\n",
       "      <th>Likes Received</th>\n",
       "      <th>Tweet Location</th>\n",
       "      <th>Tweet Language</th>\n",
       "      <th>User Id</th>\n",
       "      <th>Name</th>\n",
       "      <th>Screen Name</th>\n",
       "      <th>User Bio</th>\n",
       "      <th>Verified or Non-Verified</th>\n",
       "      <th>Profile URL</th>\n",
       "      <th>Protected or Non-protected</th>\n",
       "      <th>User Followers</th>\n",
       "      <th>User Following</th>\n",
       "      <th>User Account Creation Date</th>\n",
       "      <th>hashtag</th>\n",
       "      <th>mention</th>\n",
       "      <th>account_creation_year</th>\n",
       "      <th>tweet_posted_hour</th>\n",
       "      <th>tweet_posted_date</th>\n",
       "    </tr>\n",
       "  </thead>\n",
       "  <tbody>\n",
       "    <tr>\n",
       "      <th>0</th>\n",
       "      <td>\"1233417783175778304\"</td>\n",
       "      <td>https://twitter.com/Giussi92/status/1233417783...</td>\n",
       "      <td>2020-02-28 15:44:49</td>\n",
       "      <td>Also the entire Swiss Football League is on ho...</td>\n",
       "      <td>Tweet</td>\n",
       "      <td>Twitter for iPhone</td>\n",
       "      <td>0</td>\n",
       "      <td>0</td>\n",
       "      <td>NaN</td>\n",
       "      <td>English</td>\n",
       "      <td>\"1556856595\"</td>\n",
       "      <td>Giuseppe Gentile</td>\n",
       "      <td>Giussi92</td>\n",
       "      <td>Unk</td>\n",
       "      <td>Verified</td>\n",
       "      <td>https://twitter.com/Giussi92</td>\n",
       "      <td>Non-Protected</td>\n",
       "      <td>3071</td>\n",
       "      <td>100</td>\n",
       "      <td>30 Jun 2013 00:27:50</td>\n",
       "      <td>coronavirus</td>\n",
       "      <td>Unk</td>\n",
       "      <td>2013</td>\n",
       "      <td>15:44:49</td>\n",
       "      <td>2020-02-28</td>\n",
       "    </tr>\n",
       "    <tr>\n",
       "      <th>1</th>\n",
       "      <td>\"1233417742520332290\"</td>\n",
       "      <td>https://twitter.com/LAMofficial/status/1233417...</td>\n",
       "      <td>2020-02-28 15:44:40</td>\n",
       "      <td>World Health Org Official: Trump’s press confe...</td>\n",
       "      <td>Tweet</td>\n",
       "      <td>Twitter Web App</td>\n",
       "      <td>0</td>\n",
       "      <td>0</td>\n",
       "      <td>Los Angeles CA USA</td>\n",
       "      <td>English</td>\n",
       "      <td>\"113738369\"</td>\n",
       "      <td>London After Midnight</td>\n",
       "      <td>LAMofficial</td>\n",
       "      <td>London After Midnight is a music project by wr...</td>\n",
       "      <td>Verified</td>\n",
       "      <td>https://twitter.com/LAMofficial</td>\n",
       "      <td>Non-Protected</td>\n",
       "      <td>4189</td>\n",
       "      <td>84</td>\n",
       "      <td>12 Feb 2010 21:43:17</td>\n",
       "      <td>coronavirus</td>\n",
       "      <td>Unk</td>\n",
       "      <td>2010</td>\n",
       "      <td>15:44:40</td>\n",
       "      <td>2020-02-28</td>\n",
       "    </tr>\n",
       "    <tr>\n",
       "      <th>2</th>\n",
       "      <td>\"1233417741027225602\"</td>\n",
       "      <td>https://twitter.com/mitchellvii/status/1233417...</td>\n",
       "      <td>2020-02-28 15:44:39</td>\n",
       "      <td>I mean, Liberals are cheer-leading this #Coron...</td>\n",
       "      <td>Tweet</td>\n",
       "      <td>Twitter Web App</td>\n",
       "      <td>23</td>\n",
       "      <td>64</td>\n",
       "      <td>Miami, FL</td>\n",
       "      <td>English</td>\n",
       "      <td>\"17980523\"</td>\n",
       "      <td>Bill Mitchell</td>\n",
       "      <td>mitchellvii</td>\n",
       "      <td>Host of YourVoice™ America at http://yourvoice...</td>\n",
       "      <td>Verified</td>\n",
       "      <td>https://twitter.com/mitchellvii</td>\n",
       "      <td>Non-Protected</td>\n",
       "      <td>534045</td>\n",
       "      <td>10037</td>\n",
       "      <td>09 Dec 2008 01:54:21</td>\n",
       "      <td>Coronavirus</td>\n",
       "      <td>Unk</td>\n",
       "      <td>2008</td>\n",
       "      <td>15:44:39</td>\n",
       "      <td>2020-02-28</td>\n",
       "    </tr>\n",
       "    <tr>\n",
       "      <th>3</th>\n",
       "      <td>\"1233417699264356357\"</td>\n",
       "      <td>https://twitter.com/HelenKennedy/status/123341...</td>\n",
       "      <td>2020-02-28 15:44:29</td>\n",
       "      <td>Under repeated questioning, Pompeo refuses to ...</td>\n",
       "      <td>Tweet</td>\n",
       "      <td>Twitter for iPhone</td>\n",
       "      <td>4</td>\n",
       "      <td>11</td>\n",
       "      <td>NYC and the North Fork</td>\n",
       "      <td>English</td>\n",
       "      <td>\"2199541\"</td>\n",
       "      <td>Helen Kennedy</td>\n",
       "      <td>HelenKennedy</td>\n",
       "      <td>Newspaperman (ex NY Daily News &amp;amp; Boston He...</td>\n",
       "      <td>Verified</td>\n",
       "      <td>https://twitter.com/HelenKennedy</td>\n",
       "      <td>Non-Protected</td>\n",
       "      <td>27704</td>\n",
       "      <td>1060</td>\n",
       "      <td>25 Mar 2007 19:14:46</td>\n",
       "      <td>COVID19</td>\n",
       "      <td>Unk</td>\n",
       "      <td>2007</td>\n",
       "      <td>15:44:29</td>\n",
       "      <td>2020-02-28</td>\n",
       "    </tr>\n",
       "    <tr>\n",
       "      <th>4</th>\n",
       "      <td>\"1233417674274807808\"</td>\n",
       "      <td>https://twitter.com/W7VOA/status/1233417674274...</td>\n",
       "      <td>2020-02-28 15:44:23</td>\n",
       "      <td>#coronavirus comments now from @larry_kudlow h...</td>\n",
       "      <td>Tweet</td>\n",
       "      <td>Twitter for iPhone</td>\n",
       "      <td>0</td>\n",
       "      <td>0</td>\n",
       "      <td>James S. Brady Press Briefing Room</td>\n",
       "      <td>English</td>\n",
       "      <td>\"17919393\"</td>\n",
       "      <td>Steve Herman</td>\n",
       "      <td>W7VOA</td>\n",
       "      <td>@WhiteHouse bureau chief @VOANews. Member: @aa...</td>\n",
       "      <td>Verified</td>\n",
       "      <td>https://twitter.com/W7VOA</td>\n",
       "      <td>Non-Protected</td>\n",
       "      <td>94269</td>\n",
       "      <td>1999</td>\n",
       "      <td>06 Dec 2008 08:56:45</td>\n",
       "      <td>coronavirus</td>\n",
       "      <td>larry_kudlow</td>\n",
       "      <td>2008</td>\n",
       "      <td>15:44:23</td>\n",
       "      <td>2020-02-28</td>\n",
       "    </tr>\n",
       "  </tbody>\n",
       "</table>\n",
       "</div>"
      ],
      "text/plain": [
       "                Tweet Id                                          Tweet URL  \\\n",
       "0  \"1233417783175778304\"  https://twitter.com/Giussi92/status/1233417783...   \n",
       "1  \"1233417742520332290\"  https://twitter.com/LAMofficial/status/1233417...   \n",
       "2  \"1233417741027225602\"  https://twitter.com/mitchellvii/status/1233417...   \n",
       "3  \"1233417699264356357\"  https://twitter.com/HelenKennedy/status/123341...   \n",
       "4  \"1233417674274807808\"  https://twitter.com/W7VOA/status/1233417674274...   \n",
       "\n",
       "  Tweet Posted Time (UTC)                                      Tweet Content  \\\n",
       "0     2020-02-28 15:44:49  Also the entire Swiss Football League is on ho...   \n",
       "1     2020-02-28 15:44:40  World Health Org Official: Trump’s press confe...   \n",
       "2     2020-02-28 15:44:39  I mean, Liberals are cheer-leading this #Coron...   \n",
       "3     2020-02-28 15:44:29  Under repeated questioning, Pompeo refuses to ...   \n",
       "4     2020-02-28 15:44:23  #coronavirus comments now from @larry_kudlow h...   \n",
       "\n",
       "  Tweet Type              Client  Retweets Received  Likes Received  \\\n",
       "0      Tweet  Twitter for iPhone                  0               0   \n",
       "1      Tweet     Twitter Web App                  0               0   \n",
       "2      Tweet     Twitter Web App                 23              64   \n",
       "3      Tweet  Twitter for iPhone                  4              11   \n",
       "4      Tweet  Twitter for iPhone                  0               0   \n",
       "\n",
       "                       Tweet Location Tweet Language       User Id  \\\n",
       "0                                 NaN        English  \"1556856595\"   \n",
       "1                  Los Angeles CA USA        English   \"113738369\"   \n",
       "2                           Miami, FL        English    \"17980523\"   \n",
       "3              NYC and the North Fork        English     \"2199541\"   \n",
       "4  James S. Brady Press Briefing Room        English    \"17919393\"   \n",
       "\n",
       "                    Name   Screen Name  \\\n",
       "0       Giuseppe Gentile      Giussi92   \n",
       "1  London After Midnight   LAMofficial   \n",
       "2          Bill Mitchell   mitchellvii   \n",
       "3          Helen Kennedy  HelenKennedy   \n",
       "4           Steve Herman         W7VOA   \n",
       "\n",
       "                                            User Bio Verified or Non-Verified  \\\n",
       "0                                                Unk                 Verified   \n",
       "1  London After Midnight is a music project by wr...                 Verified   \n",
       "2  Host of YourVoice™ America at http://yourvoice...                 Verified   \n",
       "3  Newspaperman (ex NY Daily News &amp; Boston He...                 Verified   \n",
       "4  @WhiteHouse bureau chief @VOANews. Member: @aa...                 Verified   \n",
       "\n",
       "                        Profile URL Protected or Non-protected  \\\n",
       "0      https://twitter.com/Giussi92              Non-Protected   \n",
       "1   https://twitter.com/LAMofficial              Non-Protected   \n",
       "2   https://twitter.com/mitchellvii              Non-Protected   \n",
       "3  https://twitter.com/HelenKennedy              Non-Protected   \n",
       "4         https://twitter.com/W7VOA              Non-Protected   \n",
       "\n",
       "   User Followers  User Following User Account Creation Date      hashtag  \\\n",
       "0            3071             100       30 Jun 2013 00:27:50  coronavirus   \n",
       "1            4189              84       12 Feb 2010 21:43:17  coronavirus   \n",
       "2          534045           10037       09 Dec 2008 01:54:21  Coronavirus   \n",
       "3           27704            1060       25 Mar 2007 19:14:46      COVID19   \n",
       "4           94269            1999       06 Dec 2008 08:56:45  coronavirus   \n",
       "\n",
       "        mention account_creation_year tweet_posted_hour tweet_posted_date  \n",
       "0           Unk                  2013          15:44:49        2020-02-28  \n",
       "1           Unk                  2010          15:44:40        2020-02-28  \n",
       "2           Unk                  2008          15:44:39        2020-02-28  \n",
       "3           Unk                  2007          15:44:29        2020-02-28  \n",
       "4  larry_kudlow                  2008          15:44:23        2020-02-28  "
      ]
     },
     "execution_count": 30,
     "metadata": {},
     "output_type": "execute_result"
    }
   ],
   "source": [
    "df_covid.head()"
   ]
  },
  {
   "cell_type": "code",
   "execution_count": 31,
   "metadata": {},
   "outputs": [
    {
     "data": {
      "text/plain": [
       "Tweet Location\n",
       "United States               702\n",
       "Beijing, China              385\n",
       "Venezuela                   303\n",
       "USA                         303\n",
       "España                      295\n",
       "                           ... \n",
       "Gerringong NSW Australia      1\n",
       "in my zone                    1\n",
       "Mérida, España                1\n",
       "ÜT: 10.169725,-64.650823      1\n",
       "Jackson Hole, WY              1\n",
       "Name: count, Length: 14538, dtype: int64"
      ]
     },
     "execution_count": 31,
     "metadata": {},
     "output_type": "execute_result"
    }
   ],
   "source": [
    "# Las ubicaciones no están unificadas, lo que implica que cada usuario ha podido rellenar libremente, y las posibilidades son infinitas\n",
    "df_covid['Tweet Location'].value_counts()"
   ]
  },
  {
   "cell_type": "code",
   "execution_count": 32,
   "metadata": {},
   "outputs": [
    {
     "data": {
      "text/plain": [
       "19540"
      ]
     },
     "execution_count": 32,
     "metadata": {},
     "output_type": "execute_result"
    }
   ],
   "source": [
    "df_covid['Tweet Location'].isna().sum()"
   ]
  },
  {
   "cell_type": "code",
   "execution_count": 33,
   "metadata": {},
   "outputs": [],
   "source": [
    "# Sustituyo los Nulos por 'Unk', ya que de lo contrario, algunos Nan, me los coge como 'Namibia' \n",
    "df_covid['Tweet Location'] = df_covid['Tweet Location'].fillna('Unk')"
   ]
  },
  {
   "cell_type": "code",
   "execution_count": 34,
   "metadata": {},
   "outputs": [],
   "source": [
    "# Lista de nombres de países y códigos comunes de chat gpt\n",
    "paises_codigos = [\n",
    "    'usa', 'us', 'united states', 'uk', 'united kingdom', 'england',\n",
    "    'afghanistan', 'af', 'albania', 'al', 'algeria', 'dz', 'andorra', 'ad',\n",
    "    'angola', 'ao', 'argentina', 'ar', 'armenia', 'am', 'australia', 'au',\n",
    "    'austria', 'at', 'azerbaijan', 'az', 'bahamas', 'bs', 'bahrain', 'bh',\n",
    "    'bangladesh', 'bd', 'barbados', 'bb', 'belarus', 'by', 'belgium', 'be',\n",
    "    'belize', 'bz', 'benin', 'bj', 'bhutan', 'bt', 'bolivia', 'bo',\n",
    "    'bosnia', 'ba', 'botswana', 'bw', 'brazil', 'br', 'brunei', 'bn',\n",
    "    'bulgaria', 'bg', 'burkina faso', 'bf', 'burundi', 'bi', 'cambodia', 'kh',\n",
    "    'cameroon', 'cm', 'canada', 'ca', 'cape verde', 'cv', 'chad', 'td',\n",
    "    'chile', 'cl', 'china', 'cn', 'colombia', 'co', 'comoros', 'km',\n",
    "    'congo', 'cg', 'costa rica', 'cr', 'croatia', 'hr', 'cuba', 'cu',\n",
    "    'cyprus', 'cy', 'czech republic', 'cz', 'denmark', 'dk', 'djibouti', 'dj',\n",
    "    'dominican republic', 'do', 'ecuador', 'ec', 'egypt', 'eg', 'el salvador', 'sv',\n",
    "    'estonia', 'ee', 'ethiopia', 'et', 'finland', 'fi', 'france', 'fr',\n",
    "    'gabon', 'ga', 'gambia', 'gm', 'georgia', 'ge', 'germany', 'de',\n",
    "    'ghana', 'gh', 'greece', 'gr', 'guatemala', 'gt', 'guinea', 'gn',\n",
    "    'haiti', 'ht', 'honduras', 'hn', 'hungary', 'hu', 'iceland', 'is',\n",
    "    'india', 'in', 'indonesia', 'id', 'iran', 'ir', 'iraq', 'iq',\n",
    "    'ireland', 'ie', 'israel', 'il', 'italy', 'it', 'jamaica', 'jm',\n",
    "    'japan', 'jp', 'jordan', 'jo', 'kazakhstan', 'kz', 'kenya', 'ke',\n",
    "    'kuwait', 'kw', 'kyrgyzstan', 'kg', 'laos', 'la', 'latvia', 'lv',\n",
    "    'lebanon', 'lb', 'liberia', 'lr', 'libya', 'ly', 'lithuania', 'lt',\n",
    "    'luxembourg', 'lu', 'madagascar', 'mg', 'malawi', 'mw', 'malaysia', 'my',\n",
    "    'maldives', 'mv', 'mali', 'ml', 'malta', 'mt', 'mexico', 'mx',\n",
    "    'moldova', 'md', 'monaco', 'mc', 'mongolia', 'mn', 'montenegro', 'me',\n",
    "    'morocco', 'ma', 'mozambique', 'mz', 'myanmar', 'mm', 'namibia', 'na',\n",
    "    'nepal', 'np', 'netherlands', 'nl', 'new zealand', 'nz', 'nicaragua', 'ni',\n",
    "    'niger', 'ne', 'nigeria', 'ng', 'north korea', 'kp', 'norway', 'no',\n",
    "    'oman', 'om', 'pakistan', 'pk', 'panama', 'pa', 'paraguay', 'py',\n",
    "    'peru', 'pe', 'philippines', 'ph', 'poland', 'pl', 'portugal', 'pt',\n",
    "    'qatar', 'qa', 'romania', 'ro', 'russia', 'ru', 'rwanda', 'rw',\n",
    "    'saudi arabia', 'sa', 'senegal', 'sn', 'serbia', 'rs', 'singapore', 'sg',\n",
    "    'slovakia', 'sk', 'slovenia', 'si', 'somalia', 'so', 'south africa', 'za',\n",
    "    'south korea', 'kr', 'spain', 'es', 'sri lanka', 'lk', 'sudan', 'sd',\n",
    "    'sweden', 'se', 'switzerland', 'ch', 'syria', 'sy', 'taiwan', 'tw',\n",
    "    'tajikistan', 'tj', 'tanzania', 'tz', 'thailand', 'th', 'togo', 'tg',\n",
    "    'tunisia', 'tn', 'turkey', 'tr', 'turkmenistan', 'tm', 'uganda', 'ug',\n",
    "    'ukraine', 'ua', 'united arab emirates', 'ae', 'uruguay', 'uy',\n",
    "    'uzbekistan', 'uz', 'venezuela', 've', 'vietnam', 'vn', 'yemen', 'ye',\n",
    "    'zambia', 'zm', 'zimbabwe', 'zw'\n",
    "]"
   ]
  },
  {
   "cell_type": "code",
   "execution_count": 35,
   "metadata": {},
   "outputs": [],
   "source": [
    "# Función para extraer país o código\n",
    "def extraer_pais(texto):\n",
    "    texto = str(texto).lower()\n",
    "    for pais in paises_codigos:\n",
    "        if pais in texto:\n",
    "            return pais\n",
    "    return 'Other'"
   ]
  },
  {
   "cell_type": "code",
   "execution_count": 36,
   "metadata": {},
   "outputs": [],
   "source": [
    "# Aplicamos la función a la columna\n",
    "df_covid['tweet_location_clean'] = df_covid['Tweet Location'].apply(extraer_pais)"
   ]
  },
  {
   "cell_type": "code",
   "execution_count": 37,
   "metadata": {},
   "outputs": [],
   "source": [
    "# Sustituir los códigos por nombre de países completos\n",
    "country_map = {}\n",
    "for i in range(0, len(paises_codigos), 2):\n",
    "    country = paises_codigos[i]\n",
    "    alias = paises_codigos[i + 1]\n",
    "    country_map[country] = country\n",
    "    country_map[alias] = country"
   ]
  },
  {
   "cell_type": "code",
   "execution_count": 38,
   "metadata": {},
   "outputs": [
    {
     "data": {
      "text/plain": [
       "{'usa': 'usa',\n",
       " 'us': 'usa',\n",
       " 'united states': 'united states',\n",
       " 'uk': 'united states',\n",
       " 'united kingdom': 'united kingdom',\n",
       " 'england': 'united kingdom',\n",
       " 'afghanistan': 'afghanistan',\n",
       " 'af': 'afghanistan',\n",
       " 'albania': 'albania',\n",
       " 'al': 'albania',\n",
       " 'algeria': 'algeria',\n",
       " 'dz': 'algeria',\n",
       " 'andorra': 'andorra',\n",
       " 'ad': 'andorra',\n",
       " 'angola': 'angola',\n",
       " 'ao': 'angola',\n",
       " 'argentina': 'argentina',\n",
       " 'ar': 'argentina',\n",
       " 'armenia': 'armenia',\n",
       " 'am': 'armenia',\n",
       " 'australia': 'australia',\n",
       " 'au': 'australia',\n",
       " 'austria': 'austria',\n",
       " 'at': 'austria',\n",
       " 'azerbaijan': 'azerbaijan',\n",
       " 'az': 'azerbaijan',\n",
       " 'bahamas': 'bahamas',\n",
       " 'bs': 'bahamas',\n",
       " 'bahrain': 'bahrain',\n",
       " 'bh': 'bahrain',\n",
       " 'bangladesh': 'bangladesh',\n",
       " 'bd': 'bangladesh',\n",
       " 'barbados': 'barbados',\n",
       " 'bb': 'barbados',\n",
       " 'belarus': 'belarus',\n",
       " 'by': 'belarus',\n",
       " 'belgium': 'belgium',\n",
       " 'be': 'belgium',\n",
       " 'belize': 'belize',\n",
       " 'bz': 'belize',\n",
       " 'benin': 'benin',\n",
       " 'bj': 'benin',\n",
       " 'bhutan': 'bhutan',\n",
       " 'bt': 'bhutan',\n",
       " 'bolivia': 'bolivia',\n",
       " 'bo': 'bolivia',\n",
       " 'bosnia': 'bosnia',\n",
       " 'ba': 'bosnia',\n",
       " 'botswana': 'botswana',\n",
       " 'bw': 'botswana',\n",
       " 'brazil': 'brazil',\n",
       " 'br': 'brazil',\n",
       " 'brunei': 'brunei',\n",
       " 'bn': 'brunei',\n",
       " 'bulgaria': 'bulgaria',\n",
       " 'bg': 'bulgaria',\n",
       " 'burkina faso': 'burkina faso',\n",
       " 'bf': 'burkina faso',\n",
       " 'burundi': 'burundi',\n",
       " 'bi': 'burundi',\n",
       " 'cambodia': 'cambodia',\n",
       " 'kh': 'cambodia',\n",
       " 'cameroon': 'cameroon',\n",
       " 'cm': 'cameroon',\n",
       " 'canada': 'canada',\n",
       " 'ca': 'canada',\n",
       " 'cape verde': 'cape verde',\n",
       " 'cv': 'cape verde',\n",
       " 'chad': 'chad',\n",
       " 'td': 'chad',\n",
       " 'chile': 'chile',\n",
       " 'cl': 'chile',\n",
       " 'china': 'china',\n",
       " 'cn': 'china',\n",
       " 'colombia': 'colombia',\n",
       " 'co': 'colombia',\n",
       " 'comoros': 'comoros',\n",
       " 'km': 'comoros',\n",
       " 'congo': 'congo',\n",
       " 'cg': 'congo',\n",
       " 'costa rica': 'costa rica',\n",
       " 'cr': 'costa rica',\n",
       " 'croatia': 'croatia',\n",
       " 'hr': 'croatia',\n",
       " 'cuba': 'cuba',\n",
       " 'cu': 'cuba',\n",
       " 'cyprus': 'cyprus',\n",
       " 'cy': 'cyprus',\n",
       " 'czech republic': 'czech republic',\n",
       " 'cz': 'czech republic',\n",
       " 'denmark': 'denmark',\n",
       " 'dk': 'denmark',\n",
       " 'djibouti': 'djibouti',\n",
       " 'dj': 'djibouti',\n",
       " 'dominican republic': 'dominican republic',\n",
       " 'do': 'dominican republic',\n",
       " 'ecuador': 'ecuador',\n",
       " 'ec': 'ecuador',\n",
       " 'egypt': 'egypt',\n",
       " 'eg': 'egypt',\n",
       " 'el salvador': 'el salvador',\n",
       " 'sv': 'el salvador',\n",
       " 'estonia': 'estonia',\n",
       " 'ee': 'estonia',\n",
       " 'ethiopia': 'ethiopia',\n",
       " 'et': 'ethiopia',\n",
       " 'finland': 'finland',\n",
       " 'fi': 'finland',\n",
       " 'france': 'france',\n",
       " 'fr': 'france',\n",
       " 'gabon': 'gabon',\n",
       " 'ga': 'gabon',\n",
       " 'gambia': 'gambia',\n",
       " 'gm': 'gambia',\n",
       " 'georgia': 'georgia',\n",
       " 'ge': 'georgia',\n",
       " 'germany': 'germany',\n",
       " 'de': 'germany',\n",
       " 'ghana': 'ghana',\n",
       " 'gh': 'ghana',\n",
       " 'greece': 'greece',\n",
       " 'gr': 'greece',\n",
       " 'guatemala': 'guatemala',\n",
       " 'gt': 'guatemala',\n",
       " 'guinea': 'guinea',\n",
       " 'gn': 'guinea',\n",
       " 'haiti': 'haiti',\n",
       " 'ht': 'haiti',\n",
       " 'honduras': 'honduras',\n",
       " 'hn': 'honduras',\n",
       " 'hungary': 'hungary',\n",
       " 'hu': 'hungary',\n",
       " 'iceland': 'iceland',\n",
       " 'is': 'iceland',\n",
       " 'india': 'india',\n",
       " 'in': 'india',\n",
       " 'indonesia': 'indonesia',\n",
       " 'id': 'indonesia',\n",
       " 'iran': 'iran',\n",
       " 'ir': 'iran',\n",
       " 'iraq': 'iraq',\n",
       " 'iq': 'iraq',\n",
       " 'ireland': 'ireland',\n",
       " 'ie': 'ireland',\n",
       " 'israel': 'israel',\n",
       " 'il': 'israel',\n",
       " 'italy': 'italy',\n",
       " 'it': 'italy',\n",
       " 'jamaica': 'jamaica',\n",
       " 'jm': 'jamaica',\n",
       " 'japan': 'japan',\n",
       " 'jp': 'japan',\n",
       " 'jordan': 'jordan',\n",
       " 'jo': 'jordan',\n",
       " 'kazakhstan': 'kazakhstan',\n",
       " 'kz': 'kazakhstan',\n",
       " 'kenya': 'kenya',\n",
       " 'ke': 'kenya',\n",
       " 'kuwait': 'kuwait',\n",
       " 'kw': 'kuwait',\n",
       " 'kyrgyzstan': 'kyrgyzstan',\n",
       " 'kg': 'kyrgyzstan',\n",
       " 'laos': 'laos',\n",
       " 'la': 'laos',\n",
       " 'latvia': 'latvia',\n",
       " 'lv': 'latvia',\n",
       " 'lebanon': 'lebanon',\n",
       " 'lb': 'lebanon',\n",
       " 'liberia': 'liberia',\n",
       " 'lr': 'liberia',\n",
       " 'libya': 'libya',\n",
       " 'ly': 'libya',\n",
       " 'lithuania': 'lithuania',\n",
       " 'lt': 'lithuania',\n",
       " 'luxembourg': 'luxembourg',\n",
       " 'lu': 'luxembourg',\n",
       " 'madagascar': 'madagascar',\n",
       " 'mg': 'madagascar',\n",
       " 'malawi': 'malawi',\n",
       " 'mw': 'malawi',\n",
       " 'malaysia': 'malaysia',\n",
       " 'my': 'malaysia',\n",
       " 'maldives': 'maldives',\n",
       " 'mv': 'maldives',\n",
       " 'mali': 'mali',\n",
       " 'ml': 'mali',\n",
       " 'malta': 'malta',\n",
       " 'mt': 'malta',\n",
       " 'mexico': 'mexico',\n",
       " 'mx': 'mexico',\n",
       " 'moldova': 'moldova',\n",
       " 'md': 'moldova',\n",
       " 'monaco': 'monaco',\n",
       " 'mc': 'monaco',\n",
       " 'mongolia': 'mongolia',\n",
       " 'mn': 'mongolia',\n",
       " 'montenegro': 'montenegro',\n",
       " 'me': 'montenegro',\n",
       " 'morocco': 'morocco',\n",
       " 'ma': 'morocco',\n",
       " 'mozambique': 'mozambique',\n",
       " 'mz': 'mozambique',\n",
       " 'myanmar': 'myanmar',\n",
       " 'mm': 'myanmar',\n",
       " 'namibia': 'namibia',\n",
       " 'na': 'namibia',\n",
       " 'nepal': 'nepal',\n",
       " 'np': 'nepal',\n",
       " 'netherlands': 'netherlands',\n",
       " 'nl': 'netherlands',\n",
       " 'new zealand': 'new zealand',\n",
       " 'nz': 'new zealand',\n",
       " 'nicaragua': 'nicaragua',\n",
       " 'ni': 'nicaragua',\n",
       " 'niger': 'niger',\n",
       " 'ne': 'niger',\n",
       " 'nigeria': 'nigeria',\n",
       " 'ng': 'nigeria',\n",
       " 'north korea': 'north korea',\n",
       " 'kp': 'north korea',\n",
       " 'norway': 'norway',\n",
       " 'no': 'norway',\n",
       " 'oman': 'oman',\n",
       " 'om': 'oman',\n",
       " 'pakistan': 'pakistan',\n",
       " 'pk': 'pakistan',\n",
       " 'panama': 'panama',\n",
       " 'pa': 'panama',\n",
       " 'paraguay': 'paraguay',\n",
       " 'py': 'paraguay',\n",
       " 'peru': 'peru',\n",
       " 'pe': 'peru',\n",
       " 'philippines': 'philippines',\n",
       " 'ph': 'philippines',\n",
       " 'poland': 'poland',\n",
       " 'pl': 'poland',\n",
       " 'portugal': 'portugal',\n",
       " 'pt': 'portugal',\n",
       " 'qatar': 'qatar',\n",
       " 'qa': 'qatar',\n",
       " 'romania': 'romania',\n",
       " 'ro': 'romania',\n",
       " 'russia': 'russia',\n",
       " 'ru': 'russia',\n",
       " 'rwanda': 'rwanda',\n",
       " 'rw': 'rwanda',\n",
       " 'saudi arabia': 'saudi arabia',\n",
       " 'sa': 'saudi arabia',\n",
       " 'senegal': 'senegal',\n",
       " 'sn': 'senegal',\n",
       " 'serbia': 'serbia',\n",
       " 'rs': 'serbia',\n",
       " 'singapore': 'singapore',\n",
       " 'sg': 'singapore',\n",
       " 'slovakia': 'slovakia',\n",
       " 'sk': 'slovakia',\n",
       " 'slovenia': 'slovenia',\n",
       " 'si': 'slovenia',\n",
       " 'somalia': 'somalia',\n",
       " 'so': 'somalia',\n",
       " 'south africa': 'south africa',\n",
       " 'za': 'south africa',\n",
       " 'south korea': 'south korea',\n",
       " 'kr': 'south korea',\n",
       " 'spain': 'spain',\n",
       " 'es': 'spain',\n",
       " 'sri lanka': 'sri lanka',\n",
       " 'lk': 'sri lanka',\n",
       " 'sudan': 'sudan',\n",
       " 'sd': 'sudan',\n",
       " 'sweden': 'sweden',\n",
       " 'se': 'sweden',\n",
       " 'switzerland': 'switzerland',\n",
       " 'ch': 'switzerland',\n",
       " 'syria': 'syria',\n",
       " 'sy': 'syria',\n",
       " 'taiwan': 'taiwan',\n",
       " 'tw': 'taiwan',\n",
       " 'tajikistan': 'tajikistan',\n",
       " 'tj': 'tajikistan',\n",
       " 'tanzania': 'tanzania',\n",
       " 'tz': 'tanzania',\n",
       " 'thailand': 'thailand',\n",
       " 'th': 'thailand',\n",
       " 'togo': 'togo',\n",
       " 'tg': 'togo',\n",
       " 'tunisia': 'tunisia',\n",
       " 'tn': 'tunisia',\n",
       " 'turkey': 'turkey',\n",
       " 'tr': 'turkey',\n",
       " 'turkmenistan': 'turkmenistan',\n",
       " 'tm': 'turkmenistan',\n",
       " 'uganda': 'uganda',\n",
       " 'ug': 'uganda',\n",
       " 'ukraine': 'ukraine',\n",
       " 'ua': 'ukraine',\n",
       " 'united arab emirates': 'united arab emirates',\n",
       " 'ae': 'united arab emirates',\n",
       " 'uruguay': 'uruguay',\n",
       " 'uy': 'uruguay',\n",
       " 'uzbekistan': 'uzbekistan',\n",
       " 'uz': 'uzbekistan',\n",
       " 'venezuela': 'venezuela',\n",
       " 've': 'venezuela',\n",
       " 'vietnam': 'vietnam',\n",
       " 'vn': 'vietnam',\n",
       " 'yemen': 'yemen',\n",
       " 'ye': 'yemen',\n",
       " 'zambia': 'zambia',\n",
       " 'zm': 'zambia',\n",
       " 'zimbabwe': 'zimbabwe',\n",
       " 'zw': 'zimbabwe'}"
      ]
     },
     "execution_count": 38,
     "metadata": {},
     "output_type": "execute_result"
    }
   ],
   "source": [
    "country_map"
   ]
  },
  {
   "cell_type": "code",
   "execution_count": 39,
   "metadata": {},
   "outputs": [],
   "source": [
    "# Corrección de un valor incorrecto\n",
    "country_map['uk'] = 'united kingdom'"
   ]
  },
  {
   "cell_type": "code",
   "execution_count": 40,
   "metadata": {},
   "outputs": [],
   "source": [
    "# Aplicar el mapeo a la columna 'tweet_location_clean' y guardar el resultado en una nueva columna 'tweet_country'\n",
    "df_covid['tweet_country'] = df_covid['tweet_location_clean'].str.lower().map(country_map)"
   ]
  },
  {
   "cell_type": "code",
   "execution_count": 41,
   "metadata": {},
   "outputs": [
    {
     "data": {
      "text/html": [
       "<div>\n",
       "<style scoped>\n",
       "    .dataframe tbody tr th:only-of-type {\n",
       "        vertical-align: middle;\n",
       "    }\n",
       "\n",
       "    .dataframe tbody tr th {\n",
       "        vertical-align: top;\n",
       "    }\n",
       "\n",
       "    .dataframe thead th {\n",
       "        text-align: right;\n",
       "    }\n",
       "</style>\n",
       "<table border=\"1\" class=\"dataframe\">\n",
       "  <thead>\n",
       "    <tr style=\"text-align: right;\">\n",
       "      <th></th>\n",
       "      <th>Tweet Location</th>\n",
       "      <th>tweet_location_clean</th>\n",
       "      <th>tweet_country</th>\n",
       "    </tr>\n",
       "  </thead>\n",
       "  <tbody>\n",
       "    <tr>\n",
       "      <th>0</th>\n",
       "      <td>Unk</td>\n",
       "      <td>Other</td>\n",
       "      <td>NaN</td>\n",
       "    </tr>\n",
       "    <tr>\n",
       "      <th>1</th>\n",
       "      <td>Los Angeles CA USA</td>\n",
       "      <td>usa</td>\n",
       "      <td>usa</td>\n",
       "    </tr>\n",
       "    <tr>\n",
       "      <th>2</th>\n",
       "      <td>Miami, FL</td>\n",
       "      <td>am</td>\n",
       "      <td>armenia</td>\n",
       "    </tr>\n",
       "    <tr>\n",
       "      <th>3</th>\n",
       "      <td>NYC and the North Fork</td>\n",
       "      <td>no</td>\n",
       "      <td>norway</td>\n",
       "    </tr>\n",
       "    <tr>\n",
       "      <th>4</th>\n",
       "      <td>James S. Brady Press Briefing Room</td>\n",
       "      <td>ad</td>\n",
       "      <td>andorra</td>\n",
       "    </tr>\n",
       "    <tr>\n",
       "      <th>5</th>\n",
       "      <td>Unk</td>\n",
       "      <td>Other</td>\n",
       "      <td>NaN</td>\n",
       "    </tr>\n",
       "  </tbody>\n",
       "</table>\n",
       "</div>"
      ],
      "text/plain": [
       "                       Tweet Location tweet_location_clean tweet_country\n",
       "0                                 Unk                Other           NaN\n",
       "1                  Los Angeles CA USA                  usa           usa\n",
       "2                           Miami, FL                   am       armenia\n",
       "3              NYC and the North Fork                   no        norway\n",
       "4  James S. Brady Press Briefing Room                   ad       andorra\n",
       "5                                 Unk                Other           NaN"
      ]
     },
     "execution_count": 41,
     "metadata": {},
     "output_type": "execute_result"
    }
   ],
   "source": [
    "df_covid[['Tweet Location', 'tweet_location_clean', 'tweet_country']].head(6)"
   ]
  },
  {
   "cell_type": "code",
   "execution_count": 42,
   "metadata": {},
   "outputs": [],
   "source": [
    "# Sustituir los Nulos por 'Unk'\n",
    "df_covid['tweet_country'] = df_covid['tweet_country'].fillna('Unk')"
   ]
  },
  {
   "cell_type": "code",
   "execution_count": 43,
   "metadata": {},
   "outputs": [],
   "source": [
    "df_covid['tweet_country'] = df_covid['tweet_country'].str.capitalize()"
   ]
  },
  {
   "cell_type": "code",
   "execution_count": 44,
   "metadata": {},
   "outputs": [
    {
     "data": {
      "text/plain": [
       "tweet_country\n",
       "Unk           21877\n",
       "Albania        4974\n",
       "Argentina      4190\n",
       "Usa            3333\n",
       "Andorra        2739\n",
       "              ...  \n",
       "Nepal             1\n",
       "Cape verde        1\n",
       "Djibouti          1\n",
       "Botswana          1\n",
       "Togo              1\n",
       "Name: count, Length: 138, dtype: int64"
      ]
     },
     "execution_count": 44,
     "metadata": {},
     "output_type": "execute_result"
    }
   ],
   "source": [
    "df_covid['tweet_country'].value_counts()"
   ]
  },
  {
   "cell_type": "code",
   "execution_count": 43,
   "metadata": {},
   "outputs": [],
   "source": [
    "# Elimino las columnas que ya no necesito\n",
    "df_covid.drop(columns=['tweet_location_clean', 'Tweet Location'], inplace=True)"
   ]
  },
  {
   "cell_type": "code",
   "execution_count": 47,
   "metadata": {},
   "outputs": [],
   "source": [
    "# Contar el numero de veces que aparece\n",
    "apariciones = df_covid[\"Tweet Language\"].value_counts()\n",
    "\n",
    "# Crear una máscara para los idiomas con menos de 10 apariciones\n",
    "ocasionales = apariciones[apariciones < 10].index\n",
    "\n",
    "# Reemplazar esos idiomas con 'Other'\n",
    "df_covid[\"Tweet Language\"] = df_covid[\"Tweet Language\"].apply(lambda x: 'Other' if x in ocasionales else x)\n"
   ]
  },
  {
   "cell_type": "code",
   "execution_count": 49,
   "metadata": {},
   "outputs": [
    {
     "data": {
      "text/plain": [
       "1148"
      ]
     },
     "execution_count": 49,
     "metadata": {},
     "output_type": "execute_result"
    }
   ],
   "source": [
    "df_covid[\"Tweet Language\"].isna().sum()"
   ]
  },
  {
   "cell_type": "code",
   "execution_count": 50,
   "metadata": {},
   "outputs": [],
   "source": [
    "df_covid[\"Tweet Language\"] = df_covid[\"Tweet Language\"].fillna('Unk')"
   ]
  },
  {
   "cell_type": "code",
   "execution_count": 53,
   "metadata": {},
   "outputs": [],
   "source": [
    "# Sustituyo el único valor que se ha quedado en formato código por su nombre correspondiente\n",
    "df_covid[\"Tweet Language\"] = df_covid[\"Tweet Language\"].replace('in', 'Indonesian')"
   ]
  },
  {
   "cell_type": "code",
   "execution_count": 54,
   "metadata": {},
   "outputs": [
    {
     "data": {
      "text/plain": [
       "Tweet Language\n",
       "English       33174\n",
       "Spanish       15814\n",
       "Italian        2958\n",
       "French         2932\n",
       "Unk            1148\n",
       "Portuguese      912\n",
       "Turkish         884\n",
       "German          434\n",
       "Indonesian      388\n",
       "Chinese         283\n",
       "Thai            271\n",
       "Japanese        204\n",
       "Tagalog         131\n",
       "Catalan         104\n",
       "Dutch            93\n",
       "Arabic           79\n",
       "Polish           69\n",
       "Urdu             53\n",
       "Other            50\n",
       "Russian          29\n",
       "Greek            24\n",
       "Danish           19\n",
       "Korean           18\n",
       "Farsi            18\n",
       "Swedish          17\n",
       "Hindi            15\n",
       "Finnish          14\n",
       "Tamil            13\n",
       "Estonian         12\n",
       "Name: count, dtype: int64"
      ]
     },
     "execution_count": 54,
     "metadata": {},
     "output_type": "execute_result"
    }
   ],
   "source": [
    "df_covid[\"Tweet Language\"].value_counts()"
   ]
  },
  {
   "cell_type": "code",
   "execution_count": null,
   "metadata": {},
   "outputs": [
    {
     "data": {
      "text/plain": [
       "Tweet Id                      0.0\n",
       "Tweet URL                     0.0\n",
       "Tweet Posted Time (UTC)       0.0\n",
       "Tweet Content                 0.0\n",
       "Tweet Type                    0.0\n",
       "Client                        0.0\n",
       "Retweets Received             0.0\n",
       "Likes Received                0.0\n",
       "Tweet Language                0.0\n",
       "User Id                       0.0\n",
       "Name                          0.0\n",
       "Screen Name                   0.0\n",
       "User Bio                      0.0\n",
       "Verified or Non-Verified      0.0\n",
       "Profile URL                   0.0\n",
       "Protected or Non-protected    0.0\n",
       "User Followers                0.0\n",
       "User Following                0.0\n",
       "User Account Creation Date    0.0\n",
       "hashtag                       0.0\n",
       "mention                       0.0\n",
       "account_creation_year         0.0\n",
       "tweet_posted_hour             0.0\n",
       "tweet_posted_date             0.0\n",
       "tweet_country                 0.0\n",
       "dtype: float64"
      ]
     },
     "execution_count": 55,
     "metadata": {},
     "output_type": "execute_result"
    }
   ],
   "source": [
    "# Limpieza y gestión de Nulos terminados\n",
    "round(df_covid.isna().sum()/60160*100,2)"
   ]
  },
  {
   "cell_type": "markdown",
   "metadata": {},
   "source": [
    "##### -> Duplicados "
   ]
  },
  {
   "cell_type": "code",
   "execution_count": null,
   "metadata": {},
   "outputs": [],
   "source": [
    "#NNo hay filas duplicadas\n",
    "df_covid.duplicated().sum()"
   ]
  },
  {
   "cell_type": "code",
   "execution_count": null,
   "metadata": {},
   "outputs": [],
   "source": [
    "# Existen 16863 'User Id' duplicados, lo que indica que los usuarios publicaron en más de alguna ocasión. \n",
    "df_covid[\"User Id\"].duplicated().sum()"
   ]
  },
  {
   "cell_type": "code",
   "execution_count": null,
   "metadata": {},
   "outputs": [],
   "source": [
    "# Son más los nombres duplicados, pero puede ser que el nombre sea igual para más personas.\n",
    "df_covid[\"Name\"].duplicated().sum()"
   ]
  },
  {
   "cell_type": "markdown",
   "metadata": {},
   "source": [
    "##### -> Limpiar columna \"Tweet Language\" para agrupar los más relevantes"
   ]
  },
  {
   "cell_type": "code",
   "execution_count": 45,
   "metadata": {},
   "outputs": [
    {
     "data": {
      "text/plain": [
       "Index(['Tweet Id', 'Tweet URL', 'Tweet Posted Time (UTC)', 'Tweet Content',\n",
       "       'Tweet Type', 'Client', 'Retweets Received', 'Likes Received',\n",
       "       'Tweet Location', 'Tweet Language', 'User Id', 'Name', 'Screen Name',\n",
       "       'User Bio', 'Verified or Non-Verified', 'Profile URL',\n",
       "       'Protected or Non-protected', 'User Followers', 'User Following',\n",
       "       'User Account Creation Date', 'hashtag', 'mention',\n",
       "       'account_creation_year', 'tweet_posted_hour', 'tweet_posted_date',\n",
       "       'tweet_location_clean', 'tweet_country'],\n",
       "      dtype='object')"
      ]
     },
     "execution_count": 45,
     "metadata": {},
     "output_type": "execute_result"
    }
   ],
   "source": [
    "df_covid.columns"
   ]
  },
  {
   "cell_type": "code",
   "execution_count": 46,
   "metadata": {},
   "outputs": [],
   "source": [
    "# Función para convertir a snake_case\n",
    "def to_snake_case(col):\n",
    "    return col.strip().lower().replace(' ', '_').replace('-', '_')\n",
    "\n",
    "\n"
   ]
  },
  {
   "cell_type": "code",
   "execution_count": 47,
   "metadata": {},
   "outputs": [],
   "source": [
    "# Aplicar la función a todas las columnas\n",
    "df_covid.columns = [to_snake_case(col) for col in df_covid.columns]"
   ]
  },
  {
   "cell_type": "code",
   "execution_count": 48,
   "metadata": {},
   "outputs": [
    {
     "data": {
      "text/plain": [
       "Index(['tweet_id', 'tweet_url', 'tweet_posted_time_(utc)', 'tweet_content',\n",
       "       'tweet_type', 'client', 'retweets_received', 'likes_received',\n",
       "       'tweet_location', 'tweet_language', 'user_id', 'name', 'screen_name',\n",
       "       'user_bio', 'verified_or_non_verified', 'profile_url',\n",
       "       'protected_or_non_protected', 'user_followers', 'user_following',\n",
       "       'user_account_creation_date', 'hashtag', 'mention',\n",
       "       'account_creation_year', 'tweet_posted_hour', 'tweet_posted_date',\n",
       "       'tweet_location_clean', 'tweet_country'],\n",
       "      dtype='object')"
      ]
     },
     "execution_count": 48,
     "metadata": {},
     "output_type": "execute_result"
    }
   ],
   "source": [
    "df_covid.columns"
   ]
  },
  {
   "cell_type": "markdown",
   "metadata": {},
   "source": [
    "## 3. Guardar CSV"
   ]
  },
  {
   "cell_type": "code",
   "execution_count": 49,
   "metadata": {},
   "outputs": [],
   "source": [
    "df_covid.to_csv(\"../files/Covid_clean.csv\", index=False)"
   ]
  },
  {
   "cell_type": "markdown",
   "metadata": {},
   "source": [
    "## 4. Análisis"
   ]
  },
  {
   "cell_type": "markdown",
   "metadata": {},
   "source": [
    "##### -> Establezco una paleta de color para todas las gráficas"
   ]
  },
  {
   "cell_type": "code",
   "execution_count": 50,
   "metadata": {},
   "outputs": [],
   "source": [
    "custom_palette = \"mako\"  # Puedes cambiar por \"viridis\", \"rocket\", \"coolwarm\", etc.\n",
    "sns.set_palette(custom_palette)\n",
    "\n",
    "# Establecer estilo general para seaborn y matplotlib\n",
    "sns.set_style(\"whitegrid\")  # Puedes usar \"darkgrid\", \"white\", \"ticks\", etc.\n",
    "plt.rcParams.update({\n",
    "    'figure.figsize': (10, 6),\n",
    "    'axes.titlesize': 14,\n",
    "    'axes.labelsize': 12,\n",
    "    'xtick.labelsize': 10,\n",
    "    'ytick.labelsize': 10,\n",
    "    'axes.edgecolor': 'gray',\n",
    "    'axes.grid': True,\n",
    "    'grid.color': 'lightgray'\n",
    "})"
   ]
  },
  {
   "cell_type": "markdown",
   "metadata": {},
   "source": [
    "##### -> Analizo correlaciones numéricas"
   ]
  },
  {
   "cell_type": "code",
   "execution_count": 51,
   "metadata": {},
   "outputs": [
    {
     "data": {
      "text/html": [
       "<div>\n",
       "<style scoped>\n",
       "    .dataframe tbody tr th:only-of-type {\n",
       "        vertical-align: middle;\n",
       "    }\n",
       "\n",
       "    .dataframe tbody tr th {\n",
       "        vertical-align: top;\n",
       "    }\n",
       "\n",
       "    .dataframe thead th {\n",
       "        text-align: right;\n",
       "    }\n",
       "</style>\n",
       "<table border=\"1\" class=\"dataframe\">\n",
       "  <thead>\n",
       "    <tr style=\"text-align: right;\">\n",
       "      <th></th>\n",
       "      <th>retweets_received</th>\n",
       "      <th>likes_received</th>\n",
       "      <th>user_followers</th>\n",
       "      <th>user_following</th>\n",
       "    </tr>\n",
       "  </thead>\n",
       "  <tbody>\n",
       "    <tr>\n",
       "      <th>retweets_received</th>\n",
       "      <td>1.000000</td>\n",
       "      <td>0.904214</td>\n",
       "      <td>0.040819</td>\n",
       "      <td>0.004224</td>\n",
       "    </tr>\n",
       "    <tr>\n",
       "      <th>likes_received</th>\n",
       "      <td>0.904214</td>\n",
       "      <td>1.000000</td>\n",
       "      <td>0.086309</td>\n",
       "      <td>0.005087</td>\n",
       "    </tr>\n",
       "    <tr>\n",
       "      <th>user_followers</th>\n",
       "      <td>0.040819</td>\n",
       "      <td>0.086309</td>\n",
       "      <td>1.000000</td>\n",
       "      <td>0.022251</td>\n",
       "    </tr>\n",
       "    <tr>\n",
       "      <th>user_following</th>\n",
       "      <td>0.004224</td>\n",
       "      <td>0.005087</td>\n",
       "      <td>0.022251</td>\n",
       "      <td>1.000000</td>\n",
       "    </tr>\n",
       "  </tbody>\n",
       "</table>\n",
       "</div>"
      ],
      "text/plain": [
       "                   retweets_received  likes_received  user_followers  \\\n",
       "retweets_received           1.000000        0.904214        0.040819   \n",
       "likes_received              0.904214        1.000000        0.086309   \n",
       "user_followers              0.040819        0.086309        1.000000   \n",
       "user_following              0.004224        0.005087        0.022251   \n",
       "\n",
       "                   user_following  \n",
       "retweets_received        0.004224  \n",
       "likes_received           0.005087  \n",
       "user_followers           0.022251  \n",
       "user_following           1.000000  "
      ]
     },
     "execution_count": 51,
     "metadata": {},
     "output_type": "execute_result"
    }
   ],
   "source": [
    "df_corr = df_covid.corr(numeric_only=True)\n",
    "df_corr"
   ]
  },
  {
   "cell_type": "code",
   "execution_count": 52,
   "metadata": {},
   "outputs": [
    {
     "data": {
      "image/png": "[encoded data removed]",
      "text/plain": [
       "<Figure size 1000x600 with 2 Axes>"
      ]
     },
     "metadata": {},
     "output_type": "display_data"
    }
   ],
   "source": [
    "# Crear una matriz booleana de máscara\n",
    "mask = np.triu(np.ones_like(df_corr, dtype=bool))\n",
    "\n",
    "# Crear un heatmap con la máscara\n",
    "sns.heatmap(df_corr, \n",
    "            annot = True, \n",
    "            fmt = \".2f\", \n",
    "            cmap = \"mako\", \n",
    "            vmax = 1, \n",
    "            vmin = -1, \n",
    "            mask = mask);"
   ]
  },
  {
   "cell_type": "code",
   "execution_count": 53,
   "metadata": {},
   "outputs": [
    {
     "data": {
      "text/plain": [
       "Index(['tweet_id', 'tweet_url', 'tweet_posted_time_(utc)', 'tweet_content',\n",
       "       'tweet_type', 'client', 'retweets_received', 'likes_received',\n",
       "       'tweet_location', 'tweet_language', 'user_id', 'name', 'screen_name',\n",
       "       'user_bio', 'verified_or_non_verified', 'profile_url',\n",
       "       'protected_or_non_protected', 'user_followers', 'user_following',\n",
       "       'user_account_creation_date', 'hashtag', 'mention',\n",
       "       'account_creation_year', 'tweet_posted_hour', 'tweet_posted_date',\n",
       "       'tweet_location_clean', 'tweet_country'],\n",
       "      dtype='object')"
      ]
     },
     "execution_count": 53,
     "metadata": {},
     "output_type": "execute_result"
    }
   ],
   "source": [
    "df_covid.columns"
   ]
  },
  {
   "cell_type": "markdown",
   "metadata": {},
   "source": [
    "##### -> Distribución de años de creación de las cuentas"
   ]
  },
  {
   "cell_type": "code",
   "execution_count": 55,
   "metadata": {},
   "outputs": [],
   "source": [
    "# Ordenar el DataFrame por año antes de graficar (por si acaso)\n",
    "df_covid_sorted = df_covid.sort_values('account_creation_year')\n",
    "\n"
   ]
  },
  {
   "cell_type": "code",
   "execution_count": 56,
   "metadata": {},
   "outputs": [
    {
     "data": {
      "text/plain": [
       "<Axes: xlabel='account_creation_year', ylabel='Count'>"
      ]
     },
     "execution_count": 56,
     "metadata": {},
     "output_type": "execute_result"
    },
    {
     "data": {
      "image/png": "[encoded data removed]",
      "text/plain": [
       "<Figure size 1000x600 with 1 Axes>"
      ]
     },
     "metadata": {},
     "output_type": "display_data"
    }
   ],
   "source": [
    "# Histplot con eje y ordenado por año\n",
    "sns.histplot(x='account_creation_year', data=df_covid_sorted, discrete=True, kde=True)"
   ]
  }
 ],
 "metadata": {
  "kernelspec": {
   "display_name": "base",
   "language": "python",
   "name": "python3"
  },
  "language_info": {
   "codemirror_mode": {
    "name": "ipython",
    "version": 3
   },
   "file_extension": ".py",
   "mimetype": "text/x-python",
   "name": "python",
   "nbconvert_exporter": "python",
   "pygments_lexer": "ipython3",
   "version": "3.12.7"
  }
 },
 "nbformat": 4,
 "nbformat_minor": 2
}
